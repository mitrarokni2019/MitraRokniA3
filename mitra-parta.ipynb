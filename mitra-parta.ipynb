{
 "cells": [
  {
   "cell_type": "code",
   "execution_count": 1,
   "id": "boring-architect",
   "metadata": {},
   "outputs": [],
   "source": [
    "from pyspark.sql import SparkSession\n",
    "from pyspark import SparkContext\n",
    "from pyspark.streaming import StreamingContext\n",
    "from operator import add\n",
    "\n",
    "\n",
    "# New API\n",
    "spark_session = SparkSession\\\n",
    "        .builder\\\n",
    "        .master(\"spark://192.168.2.113:7077\") \\\n",
    "        .appName(\"mitra-parta\")\\\n",
    "        .config(\"spark.dynamicAllocation.enabled\", True)\\\n",
    "        .config(\"spark.shuffle.service.enabled\", True)\\\n",
    "        .config(\"spark.dynamicAllocation.executorIdleTimeout\",\"30s\")\\\n",
    "        .config(\"spark.executor.cores\",4)\\\n",
    "        .config(\"spark.cores.max\",4)\\\n",
    "        .config(\"spark.driver.port\",9998)\\\n",
    "        .config(\"spark.blockManager.port\",10005)\\\n",
    "        .getOrCreate()\n",
    "# Old API (RDD)\n",
    "spark_context = spark_session.sparkContext\n",
    "spark_context.setLogLevel(\"INFO\")"
   ]
  },
  {
   "cell_type": "code",
   "execution_count": 2,
   "id": "renewable-recycling",
   "metadata": {},
   "outputs": [
    {
     "name": "stdout",
     "output_type": "stream",
     "text": [
      "[\"Action taken on Parliament's resolutions: see Minutes\", 'Documents received: see Minutes', 'Written statements (Rule 116): see Minutes', 'Texts of agreements forwarded by the Council: see Minutes', 'Membership of Parliament: see Minutes']\n"
     ]
    },
    {
     "data": {
      "text/plain": [
       "651746"
      ]
     },
     "execution_count": 2,
     "metadata": {},
     "output_type": "execute_result"
    }
   ],
   "source": [
    "# A \n",
    "#     : Read English transcripts , count the numbers of lines \n",
    "\n",
    "lines1= spark_context.textFile(\"hdfs://192.168.2.113:9000/europarl/europarl-v7.et-en.en\")#  engligh\n",
    "print(lines1.take(5))\n",
    "\n",
    "lines1.count()"
   ]
  },
  {
   "cell_type": "code",
   "execution_count": 3,
   "id": "sonic-blend",
   "metadata": {},
   "outputs": [
    {
     "name": "stdout",
     "output_type": "stream",
     "text": [
      "['Parlamendi resolutsioonide vastuvõtmisele järgnev tegevus (vt protokoll)', 'Esitatud dokumendid (vaata protokolli)', 'Kirjalikud deklaratsioonid (kodukorra artikkel 116) (vaata protokolli)', 'Nõukogu saadetud kokkulepete tekstid (vaata protokolli)', 'Parlamendi koosseis (vaata protokolli)']\n"
     ]
    },
    {
     "data": {
      "text/plain": [
       "651746"
      ]
     },
     "execution_count": 3,
     "metadata": {},
     "output_type": "execute_result"
    }
   ],
   "source": [
    "# A1 \n",
    "#     : Read the Estonian transcripts , count teh numbers of lines \n",
    "\n",
    "lines2 = spark_context.textFile(\"hdfs://192.168.2.113:9000/europarl/europarl-v7.et-en.et\")#  Estonian\n",
    "print(lines2.take(5))\n",
    "\n",
    "\n",
    "lines2.count()"
   ]
  },
  {
   "cell_type": "code",
   "execution_count": 4,
   "id": "pacific-welcome",
   "metadata": {},
   "outputs": [],
   "source": [
    "# Verifythatthelinecountsarethesameforthetwolanguages.\n",
    "#  ???????????????????????????????????????????????????????"
   ]
  },
  {
   "cell_type": "code",
   "execution_count": 5,
   "id": "extra-blood",
   "metadata": {},
   "outputs": [
    {
     "name": "stdout",
     "output_type": "stream",
     "text": [
      "total words in English= 15687988\n",
      "total words in Estonian= 11214592\n"
     ]
    }
   ],
   "source": [
    "\n",
    "\n",
    "words = lines1.map(lambda line: line.split(' '))\n",
    "word_counts = words.map(lambda w: len(w))\n",
    "total_words = word_counts.reduce(add)\n",
    "print(f'total words in English= {total_words}') \n",
    "\n",
    "words = lines2.map(lambda line: line.split(' '))\n",
    "word_counts = words.map(lambda w: len(w))\n",
    "total_words = word_counts.reduce(add)\n",
    "print(f'total words in Estonian= {total_words}') "
   ]
  },
  {
   "cell_type": "code",
   "execution_count": null,
   "id": "adverse-webcam",
   "metadata": {},
   "outputs": [],
   "source": [
    " "
   ]
  },
  {
   "cell_type": "code",
   "execution_count": 6,
   "id": "complex-ottawa",
   "metadata": {},
   "outputs": [
    {
     "name": "stdout",
     "output_type": "stream",
     "text": [
      "2\n",
      "2\n"
     ]
    }
   ],
   "source": [
    "# count the number of partitions \n",
    "print (lines1.getNumPartitions())# number of partition for english\n",
    "print (lines2.getNumPartitions())# number of partition for Estonian\n"
   ]
  },
  {
   "cell_type": "code",
   "execution_count": 7,
   "id": "right-child",
   "metadata": {},
   "outputs": [
    {
     "name": "stdout",
     "output_type": "stream",
     "text": [
      "['action', 'taken', 'on', \"parliament's\", 'resolutions:', 'see', 'minutes', 'documents', 'received:', 'see', 'minutes', 'written', 'statements', '(rule', '116):', 'see', 'minutes', 'texts', 'of', 'agreements', 'forwarded', 'by', 'the', 'council:', 'see', 'minutes', 'membership', 'of', 'parliament:', 'see', 'minutes', 'membership', 'of', 'committees', 'and', 'delegations:', 'see', 'minutes', 'future', 'action', 'in', 'the', 'field', 'of', 'patents', '(motions', 'for', 'resolutions', 'tabled):', 'see']\n",
      "********************************************************************************************************************************************************************\n",
      "['parlamendi', 'resolutsioonide', 'vastuvõtmisele', 'järgnev', 'tegevus', '(vt', 'protokoll)', 'esitatud', 'dokumendid', '(vaata', 'protokolli)', 'kirjalikud', 'deklaratsioonid', '(kodukorra', 'artikkel', '116)', '(vaata', 'protokolli)', 'nõukogu', 'saadetud']\n"
     ]
    }
   ],
   "source": [
    "# A2  Pre-process\n",
    "def func_convert(lines):\n",
    "    lines=lines.flatMap(lambda line: line.lower().split(' '))\n",
    "    return lines\n",
    "\n",
    "lines1_1=func_convert(lines1)\n",
    "print(lines1_1.take(50))\n",
    "print ('********************************************************************************************************************************************************************')\n",
    "lines2_1=func_convert(lines2)\n",
    "print(lines2_1.take(20))"
   ]
  },
  {
   "cell_type": "code",
   "execution_count": 8,
   "id": "shaped-shore",
   "metadata": {},
   "outputs": [
    {
     "name": "stdout",
     "output_type": "stream",
     "text": [
      "['action', 'taken', 'on', \"parliament's\", 'resolutions:', 'see', 'minutes', 'documents', 'received:', 'see', 'minutes', 'written', 'statements', '(rule', '116):', 'see', 'minutes', 'texts', 'of', 'agreements', 'forwarded', 'by', 'the', 'council:', 'see', 'minutes', 'membership', 'of', 'parliament:', 'see', 'minutes', 'membership', 'of', 'committees', 'and', 'delegations:', 'see', 'minutes', 'future', 'action', 'in', 'the', 'field', 'of', 'patents', '(motions', 'for', 'resolutions', 'tabled):', 'see']\n",
      "********************************************************************************************************************************************************************\n",
      "['parlamendi', 'resolutsioonide', 'vastuvõtmisele', 'järgnev', 'tegevus', '(vt', 'protokoll)', 'esitatud', 'dokumendid', '(vaata', 'protokolli)', 'kirjalikud', 'deklaratsioonid', '(kodukorra', 'artikkel', '116)', '(vaata', 'protokolli)', 'nõukogu', 'saadetud']\n"
     ]
    }
   ],
   "source": [
    "# A2  Pre-process\n",
    "def func_convert_listtolist(lines):\n",
    "    lines=lines.map(lambda line: line.lower().split(' '))\n",
    "    return lines\n",
    "lines1_1_L=func_convert_listtolist(lines1)\n",
    "print(lines1_1.take(50))\n",
    "print ('********************************************************************************************************************************************************************')\n",
    "lines2_1_L=func_convert_listtolist(lines2)\n",
    "print(lines2_1.take(20))"
   ]
  },
  {
   "cell_type": "code",
   "execution_count": 9,
   "id": "radical-modern",
   "metadata": {},
   "outputs": [
    {
     "name": "stdout",
     "output_type": "stream",
     "text": [
      "15687988\n",
      "11214592\n"
     ]
    }
   ],
   "source": [
    "print(lines1_1.count())\n",
    "print(lines2_1.count())"
   ]
  },
  {
   "cell_type": "code",
   "execution_count": null,
   "id": "surrounded-remains",
   "metadata": {},
   "outputs": [],
   "source": []
  },
  {
   "cell_type": "code",
   "execution_count": 10,
   "id": "adjustable-montana",
   "metadata": {},
   "outputs": [
    {
     "name": "stdout",
     "output_type": "stream",
     "text": [
      "[('the', 1188331), ('of', 573311), ('to', 519165), ('and', 462953), ('in', 379602), ('a', 262705), ('that', 260069), ('is', 254183), ('for', 191702), ('we', 177479)]\n"
     ]
    }
   ],
   "source": [
    "\n",
    "mapper = lines1_1.map(lambda w: w.strip())\\\n",
    "                .map(lambda w: (w,1))\n",
    "\n",
    "\n",
    "top_ten = mapper.reduceByKey(add)\n",
    "\n",
    "print(top_ten.takeOrdered(10, key=lambda x: -x[1]))"
   ]
  },
  {
   "cell_type": "code",
   "execution_count": 13,
   "id": "later-labor",
   "metadata": {},
   "outputs": [
    {
     "name": "stdout",
     "output_type": "stream",
     "text": [
      "[('ja', 367414), ('on', 334744), ('et', 236033), ('euroopa', 140456), ('ei', 116118), ('ning', 100243), ('see', 88746), ('mis', 87777), ('kui', 79788), ('-', 69239)]\n"
     ]
    }
   ],
   "source": [
    "#  A3 top common words in Estonian\n",
    "mapper = lines2_1.map(lambda w: w.strip())\\\n",
    "                .map(lambda w: (w,1))\n",
    "\n",
    "\n",
    "top_ten = mapper.reduceByKey(add)\n",
    "\n",
    "print(top_ten.takeOrdered(10, key=lambda x: -x[1]))"
   ]
  },
  {
   "cell_type": "markdown",
   "id": "boring-membership",
   "metadata": {},
   "source": [
    "#  A4\n",
    "lines1_zip=lines1_1.zipWithIndex()\n",
    "lines1_zip.take(50)"
   ]
  },
  {
   "cell_type": "code",
   "execution_count": 15,
   "id": "assured-worth",
   "metadata": {},
   "outputs": [
    {
     "name": "stdout",
     "output_type": "stream",
     "text": [
      "[(['action', 'taken', 'on', \"parliament's\", 'resolutions:', 'see', 'minutes'], 0), (['documents', 'received:', 'see', 'minutes'], 1), (['written', 'statements', '(rule', '116):', 'see', 'minutes'], 2), (['texts', 'of', 'agreements', 'forwarded', 'by', 'the', 'council:', 'see', 'minutes'], 3), (['membership', 'of', 'parliament:', 'see', 'minutes'], 4), (['membership', 'of', 'committees', 'and', 'delegations:', 'see', 'minutes'], 5), (['future', 'action', 'in', 'the', 'field', 'of', 'patents', '(motions', 'for', 'resolutions', 'tabled):', 'see', 'minutes'], 6), (['agenda', 'for', 'next', 'sitting:', 'see', 'minutes'], 7), (['closure', 'of', 'sitting'], 8), (['(the', 'sitting', 'was', 'closed', 'at', '11.55', 'p.m.)'], 9)]\n",
      "********************************************************************************************************************************************************************\n",
      "[(['parlamendi', 'resolutsioonide', 'vastuvõtmisele', 'järgnev', 'tegevus', '(vt', 'protokoll)'], 0), (['esitatud', 'dokumendid', '(vaata', 'protokolli)'], 1), (['kirjalikud', 'deklaratsioonid', '(kodukorra', 'artikkel', '116)', '(vaata', 'protokolli)'], 2), (['nõukogu', 'saadetud', 'kokkulepete', 'tekstid', '(vaata', 'protokolli)'], 3), (['parlamendi', 'koosseis', '(vaata', 'protokolli)'], 4), (['parlamendi', 'komisjonide', 'ja', 'delegatsioonide', 'koosseis', '(vaata', 'protokolli)'], 5), (['tulevased', 'meetmed', 'patentide', 'valdkonnas', '(esitatud', 'resolutsiooni', 'ettepanekud)', '(vt', 'protokoll)'], 6), (['järgmise', 'istungi', 'päevakord', '(vaata', 'protokolli)'], 7), (['istungi', 'lõpp'], 8), (['(la', 'seduta', 'è', 'tolta', 'alle', '23.55)'], 9)]\n"
     ]
    }
   ],
   "source": [
    "# step 1  for english \n",
    "lines1_zip=lines1_1_L.zipWithIndex() \n",
    "print(lines1_zip.take(10))\n",
    "\n",
    "print ('********************************************************************************************************************************************************************')\n",
    "# step 1 for Estonian \n",
    "lines2_zip=lines2_1_L.zipWithIndex() # \n",
    "print (lines2_zip.take(10))"
   ]
  },
  {
   "cell_type": "code",
   "execution_count": 16,
   "id": "damaged-criminal",
   "metadata": {},
   "outputs": [
    {
     "name": "stdout",
     "output_type": "stream",
     "text": [
      "[(0, ['action', 'taken', 'on', \"parliament's\", 'resolutions:', 'see', 'minutes']), (1, ['documents', 'received:', 'see', 'minutes']), (2, ['written', 'statements', '(rule', '116):', 'see', 'minutes']), (3, ['texts', 'of', 'agreements', 'forwarded', 'by', 'the', 'council:', 'see', 'minutes']), (4, ['membership', 'of', 'parliament:', 'see', 'minutes']), (5, ['membership', 'of', 'committees', 'and', 'delegations:', 'see', 'minutes']), (6, ['future', 'action', 'in', 'the', 'field', 'of', 'patents', '(motions', 'for', 'resolutions', 'tabled):', 'see', 'minutes']), (7, ['agenda', 'for', 'next', 'sitting:', 'see', 'minutes']), (8, ['closure', 'of', 'sitting']), (9, ['(the', 'sitting', 'was', 'closed', 'at', '11.55', 'p.m.)']), (10, ['opening', 'of', 'the', 'sitting']), (11, ['(the', 'sitting', 'was', 'opened', 'at', '9', 'a.m.)']), (12, ['documents', 'received:', 'see', 'minutes']), (13, ['approval', 'of', 'minutes', 'of', 'previous', 'sitting:', 'see', 'minutes']), (14, ['membership', 'of', 'committees', 'and', 'delegations:', 'see', 'minutes']), (15, ['1.']), (16, ['ec-bulgaria', 'agreement:', 'participation', 'in', 'the', 'work', 'of', 'the', 'european', 'monitoring', 'centre', 'for', 'drugs', 'and', 'drug', 'addiction', '(vote)']), (17, ['2.']), (18, ['ec-romania', 'agreement:', 'participation', 'in', 'the', 'work', 'of', 'the', 'european', 'monitoring', 'centre', 'for', 'drugs', 'and', 'drug', 'addiction', '(vote)']), (19, ['3.'])]\n",
      "********************************************************************************************************************************************************************\n",
      "[(0, ['parlamendi', 'resolutsioonide', 'vastuvõtmisele', 'järgnev', 'tegevus', '(vt', 'protokoll)']), (1, ['esitatud', 'dokumendid', '(vaata', 'protokolli)']), (2, ['kirjalikud', 'deklaratsioonid', '(kodukorra', 'artikkel', '116)', '(vaata', 'protokolli)']), (3, ['nõukogu', 'saadetud', 'kokkulepete', 'tekstid', '(vaata', 'protokolli)']), (4, ['parlamendi', 'koosseis', '(vaata', 'protokolli)']), (5, ['parlamendi', 'komisjonide', 'ja', 'delegatsioonide', 'koosseis', '(vaata', 'protokolli)']), (6, ['tulevased', 'meetmed', 'patentide', 'valdkonnas', '(esitatud', 'resolutsiooni', 'ettepanekud)', '(vt', 'protokoll)']), (7, ['järgmise', 'istungi', 'päevakord', '(vaata', 'protokolli)']), (8, ['istungi', 'lõpp']), (9, ['(la', 'seduta', 'è', 'tolta', 'alle', '23.55)']), (10, ['istungi', 'algus']), (11, ['(\"', 'συνεδρίαση', 'αρχίζει', 'στις', '9', 'π.μ.)']), (12, ['esitatud', 'dokumendid', '(vaata', 'protokolli)']), (13, ['eelmise', 'istungi', 'protokolli', 'kinnitamine', '(vaata', 'protokolli)']), (14, ['parlamendi', 'komisjonide', 'ja', 'delegatsioonide', 'koosseis', '(vaata', 'protokolli)']), (15, ['1.']), (16, ['eü', 'ja', 'bulgaaria', 'vaheline', 'leping:', 'osalemine', 'euroopa', 'narkootikumide', 'ja', 'narkomaania', 'seirekeskuse', 'töös', '(hääletus)']), (17, ['2.']), (18, ['eü', 'ja', 'rumeenia', 'vaheline', 'leping:', 'osalemine', 'euroopa', 'narkootikumide', 'ja', 'narkomaania', 'seirekeskuse', 'töös', '(hääletus)']), (19, ['3.'])]\n"
     ]
    }
   ],
   "source": [
    "# step 2 \n",
    "def swap (tuple):\n",
    "    line, index= tuple \n",
    "    return (index, line)\n",
    "\n",
    "# for english \n",
    "lines1_zip_swap= lines1_zip.map(swap)\n",
    "print (lines1_zip_swap.take(20))\n",
    "\n",
    "print ('********************************************************************************************************************************************************************')\n",
    "\n",
    "# for Estonian \n",
    "lines2_zip_swap= lines2_zip.map(swap)\n",
    "print (lines2_zip_swap.take(20))\n"
   ]
  },
  {
   "cell_type": "code",
   "execution_count": 17,
   "id": "greater-raleigh",
   "metadata": {},
   "outputs": [
    {
     "name": "stdout",
     "output_type": "stream",
     "text": [
      "[(0, ['action', 'taken', 'on', \"parliament's\", 'resolutions:', 'see', 'minutes']), (1, ['documents', 'received:', 'see', 'minutes']), (2, ['written', 'statements', '(rule', '116):', 'see', 'minutes']), (3, ['texts', 'of', 'agreements', 'forwarded', 'by', 'the', 'council:', 'see', 'minutes']), (4, ['membership', 'of', 'parliament:', 'see', 'minutes'])]\n",
      "********************************************************************************************************************************************************************\n",
      "[(0, ['parlamendi', 'resolutsioonide', 'vastuvõtmisele', 'järgnev', 'tegevus', '(vt', 'protokoll)']), (1, ['esitatud', 'dokumendid', '(vaata', 'protokolli)']), (2, ['kirjalikud', 'deklaratsioonid', '(kodukorra', 'artikkel', '116)', '(vaata', 'protokolli)']), (3, ['nõukogu', 'saadetud', 'kokkulepete', 'tekstid', '(vaata', 'protokolli)']), (4, ['parlamendi', 'koosseis', '(vaata', 'protokolli)'])]\n"
     ]
    }
   ],
   "source": [
    "# step 2 second formula for english \n",
    "lines1_zip_swap_2= lines1_zip.map(lambda x: (x[1],x[0]))\n",
    "print (lines1_zip_swap_2.take(5))\n",
    "\n",
    "print('********************************************************************************************************************************************************************')\n",
    "# step 2 second formula for Estonian \n",
    "lines2_zip_swap_2 = lines2_zip.map(lambda x: (x[1],x[0]))\n",
    "print (lines2_zip_swap_2.take(5))"
   ]
  },
  {
   "cell_type": "code",
   "execution_count": 18,
   "id": "swedish-generator",
   "metadata": {},
   "outputs": [
    {
     "name": "stdout",
     "output_type": "stream",
     "text": [
      "[(1588, (['membership', 'of', 'committees', 'and', 'delegations:', 'see', 'minutes'], ['parlamendi', 'komisjonide', 'ja', 'delegatsioonide', 'koosseis', '(vt', 'protokolli)'])), (3340, (['on', 'behalf', 'of', 'the', 'uen', 'group.', '-', 'mr', 'president,', 'the', 'first', '10', 'years', 'of', 'the', 'internal', 'market', 'added', 'eur', '877', 'billion', 'to', 'the', 'eu', 'economy', 'and', 'it', 'helped', 'to', 'create', 'over', '2.5', 'million', 'jobs,', 'so', 'i', 'do', 'not', 'think', 'anybody', 'could', 'argue', 'against', 'the', 'idea', 'that', 'the', 'internal', 'market', 'has', 'definitely', 'worked.'], ['fraktsiooni', 'uen', 'nimel.', '-', 'hr', 'juhataja,', 'esimese', '10', 'aastaga', 'lisas', 'ühtne', 'turg', 'eli', 'majandusele', '877', 'miljardit', 'eurot', 'ja', 'aitas', 'luua', 'üle', '2,5', 'miljoni', 'uue', 'töökoha,', 'seega', 'ei', 'saa', 'minu', 'arvates', 'mitte', 'keegi', 'vaielda', 'selle', 'vastu,', 'et', 'ühtne', 'turg', 'toimib.']))]\n",
      "**************\n",
      "651746\n"
     ]
    }
   ],
   "source": [
    "# step 3 \n",
    "pairs_matching_lines= lines1_zip_swap.join(lines2_zip_swap)\n",
    "print (pairs_matching_lines.take(2))\n",
    "print ('**************')\n",
    "print (pairs_matching_lines.count())"
   ]
  },
  {
   "cell_type": "code",
   "execution_count": 19,
   "id": "thousand-cattle",
   "metadata": {},
   "outputs": [
    {
     "name": "stdout",
     "output_type": "stream",
     "text": [
      "649594\n",
      "[(6424, (['they', 'do', 'not', 'substantially', 'improve', 'the', 'report.'], ['need', 'ei', 'muuda', 'raportit', 'oluliselt', 'paremaks.'])), (16736, (['and,', 'commissioner,', 'you', 'probably', 'did', 'not', 'have', 'the', 'opportunity', 'to', 'land', 'and', 'stay', 'in', 'kuwait', 'in', '1991', 'when', '300', 'oilfields', 'were', 'burning.'], ['ja,', 'volinik,', 'teil', 'ilmselt', 'ei', 'olnud', 'võimalust', 'maanduda', 'ja', 'peatuda', '1991.', 'aastal', 'kuveidis,', 'kui', 'põles', '300', 'naftavälja.'])), (31840, (['in', 'order', 'to', 'safeguard', 'energy', 'supplies', 'in', 'future', 'too,', 'the', 'eu', 'member', 'states', 'have', 'relied', 'on', 'more', 'intensive', 'cooperation', 'in', 'this', 'sector', 'since', 'the', '1990s.'], ['selleks,', 'et', 'kindlustada', 'energiaga', 'varustatus', 'ka', 'tulevikus,', 'on', 'eli', 'liikmesriigid', 'alates', '1990ndatest', 'tuginenud', 'selles', 'sektoris', 'intensiivsemale', 'koostööle.'])), (40988, (['i', 'am', 'pleased', 'to', 'be', 'able', 'to', 'participate', 'in', 'the', 'work', 'of', \"euromed's\", 'policy', 'section,', 'which,', 'i', 'believe,', 'has', 'a', 'key', 'role', 'to', 'play', 'in', 'the', 'context', 'of', 'the', 'barcelona', 'process.'], ['mul', 'on', 'hea', 'meel', 'võtta', 'osa', 'euromedi', 'poliitikavaldkonna', 'tööst,', 'millel', 'minu', 'veendumust', 'mööda', 'on', 'barcelona', 'protsessi', 'kontekstis', 'mängida', 'võtmeroll.'])), (42152, (['so,', 'sometimes,', 'we', 'have', 'an', 'effect', 'and', 'we', 'may', 'not', 'even', 'know', 'about', 'it', 'before', 'the', 'petition', 'comes', 'to', 'parliament.'], ['seega', 'on', 'meil', 'kaalu', 'ja', 'me', 'ei', 'pruugi', 'sellest', 'isegi', 'teadlikud', 'olla', 'enne,', 'kui', 'petitsioon', 'parlamenti', 'jõuab.']))]\n"
     ]
    }
   ],
   "source": [
    "# step 4 \n",
    "missing_sentences= pairs_matching_lines.filter(lambda x: (x[1][0][0] != '' and x[1][1][0]!= ''))\n",
    "print (missing_sentences.count())\n",
    "print (missing_sentences.take(5))"
   ]
  },
  {
   "cell_type": "code",
   "execution_count": 24,
   "id": "contrary-paragraph",
   "metadata": {},
   "outputs": [
    {
     "name": "stdout",
     "output_type": "stream",
     "text": [
      "79173\n",
      "[(1588, (['membership', 'of', 'committees', 'and', 'delegations:', 'see', 'minutes'], ['parlamendi', 'komisjonide', 'ja', 'delegatsioonide', 'koosseis', '(vt', 'protokolli)'])), (3964, (['-', 'joint', 'motion', 'for', 'a', 'resolution:', 'natural', 'disasters'], ['-', 'resolutsiooni', 'ühine', 'ettepanek:', 'loodusõnnetused'])), (23744, (['nevertheless,', 'we', 'feel', 'that', 'this', 'does', 'not', 'prevent', 'cooperation.'], ['sellegipoolest', 'me', 'tunneme,', 'et', 'see', 'ei', 'välista', 'koostööd.'])), (39384, (['now', 'it', 'is', 'about', 'the', 'practical', 'work', 'for', 'tomorrow.'], ['järgnema', 'peab', 'praktiline', 'tegevus.'])), (41284, (['next', 'time', 'this', 'figure', 'will', 'probably', 'fall', 'below', '40%.'], ['järgmisel', 'korral', 'langeb', 'see', 'arv', 'tõenäoliselt', 'alla', '40%.'])), (46076, (['written', 'statements', '(rule', '142)'], ['kirjalikud', 'avaldused', '(kodukorra', 'artikkel', '142)'])), (54488, (['we', 'should', 'support', 'quality', 'and', 'competitiveness.'], ['peaksime', 'toetama', 'kvaliteeti', 'ja', 'konkurentsivõimet.'])), (56388, (['on', 'the', 'contrary!'], ['vastupidiselt!'])), (72824, (['and', 'this', 'too', 'merits', 'greater', 'support', 'on', 'our', 'part.'], ['ja', 'see', 'väärib', 'meie', 'poolt', 'suuremat', 'toetust.'])), (73364, (['the', 'speaker', 'is', 'from', 'the', 'opposition.'], ['spiiker', 'on', 'opositsioonist.']))]\n"
     ]
    }
   ],
   "source": [
    "# step 5 \n",
    "sentences_with_small_words= missing_sentences.filter(lambda x: (len(x[1][0]) < 10))\n",
    "print(sentences_with_small_words.count())\n",
    "print (sentences_with_small_words.take(10))"
   ]
  },
  {
   "cell_type": "code",
   "execution_count": 25,
   "id": "funded-jordan",
   "metadata": {},
   "outputs": [
    {
     "name": "stdout",
     "output_type": "stream",
     "text": [
      "20050\n",
      "[(14140, (['-', 'report:', 'mayer'], ['-', 'raport:', 'mayer'])), (45036, (['indeed!'], ['tõepoolest!'])), (123500, (['these', 'are', 'just', 'two', 'examples.'], ['need', 'on', 'vaid', 'kaks', 'näidet.'])), (162824, (['(uproar)'], ['(sumin)'])), (200772, (['we', 'clearly', 'need', 'to', 'do', 'more.'], ['me', 'peame', 'ilmselt', 'veel', 'midagi', 'tegema.'])), (239540, (['what', 'was', 'achieved', 'is', 'important.'], ['see,', 'mis', 'saavutati,', 'on', 'oluline.'])), (241440, (['(applause)'], ['(aplaus)'])), (244868, (['(applause)'], ['(aplaus)'])), (280748, (['are', 'there', 'any', 'comments?'], ['kas', 'kellelgi', 'on', 'kommentaare?'])), (315088, (['i', 'share', 'the', 'view', 'of', 'commissioner', 'barroso.'], ['olen', 'siinkohal', 'josé', 'manuel', 'barrosoga', 'ühel', 'arvamusel.']))]\n"
     ]
    }
   ],
   "source": [
    "# step 6 pairsofsentenceswiththesamenumberofwordsineachsentence.\n",
    "\n",
    "sentences_with_equal_num_of_words= sentences_with_small_words.filter(lambda x: ( len(x[1][0]) == len(x[1][1])))\n",
    "print(sentences_with_equal_num_of_words.count())\n",
    "print (sentences_with_equal_num_of_words.take(10))"
   ]
  },
  {
   "cell_type": "code",
   "execution_count": 30,
   "id": "behavioral-antique",
   "metadata": {},
   "outputs": [
    {
     "name": "stdout",
     "output_type": "stream",
     "text": [
      "[('such', 'sellised'), ('divergences', 'lahknevused'), ('are', 'ei'), ('no', 'ole'), ('longer', 'samuti'), ('acceptable', 'enam'), ('either.', 'vastuvõetavad.'), ('we', 'me'), ('cannot', 'ei'), ('go', 'saa,')]\n"
     ]
    }
   ],
   "source": [
    "# step 7  For each sentence pair,map so that you pair each(inorder)word in the two sentences.We no longer need the line numbers.(hint:usepython’sbuiltinzip()function)\n",
    "\n",
    "pair_words =sentences_with_equal_num_of_words.map(lambda x: (x[1][0],x[1][1]))\n",
    "#print (pair_words.take(10))\n",
    "\n",
    "pair_words_in_two = pair_words.flatMap(lambda x: list(zip(x[0],x[1])))\n",
    "print (pair_words_in_two.take(10))\n"
   ]
  },
  {
   "cell_type": "code",
   "execution_count": 31,
   "id": "superior-envelope",
   "metadata": {},
   "outputs": [
    {
     "name": "stdout",
     "output_type": "stream",
     "text": [
      "[(('6.', '6.'), 168), (('(applause)', '(aplaus)'), 1738), (('and', 'ja'), 664), (('gentlemen,', 'härrad,'), 27), (('outdated.', 'aegunud.'), 1), (('these', 'oma'), 2), (('11.', '11.'), 104), (('received:', 'dokumendid'), 220), (('it', 'see'), 416), (('100%', '100%'), 1)]\n"
     ]
    }
   ],
   "source": [
    "# step 8   Use reduce to count the number of occurrences of the word-translation-pairs.\n",
    "\n",
    "word_counts_mapper= pair_words_in_two.map(lambda w: (w,1))\n",
    "\n",
    "#print (word_counts_mapper.take(3))\n",
    "word_counts_reducer= word_counts_mapper.reduceByKey(add)\n",
    "\n",
    "print (word_counts_reducer.take(10))\n",
    "\n"
   ]
  },
  {
   "cell_type": "code",
   "execution_count": 32,
   "id": "common-lancaster",
   "metadata": {},
   "outputs": [
    {
     "name": "stdout",
     "output_type": "stream",
     "text": [
      "[(('is', 'on'), 1749), (('(applause)', '(aplaus)'), 1738), (('this', 'see'), 863), (('we', 'me'), 719), (('that', 'see'), 686), (('and', 'ja'), 664), (('see', '(vt'), 603), (('minutes', 'protokoll)'), 594), (('thank', 'tänan'), 590), (('i', 'ma'), 532), (('-', '-'), 435), (('are', 'on'), 417), (('it', 'see'), 416), (('of', 'hääletuse'), 382), (('explanations', 'selgitused'), 376), (('vote', 'kohta'), 370), (('2.', '2.'), 355), (('1.', '1.'), 352), (('3.', '3.'), 332), (('not', 'ole'), 302), (('written', 'kirjalikud'), 292), (('is', 'ei'), 277), (('have', 'on'), 257), (('our', 'meie'), 248), (('very', 'väga'), 248), (('documents', 'esitatud'), 226), (('received:', 'dokumendid'), 220), (('4.', '4.'), 214), (('mr', 'härra'), 209), (('has', 'on'), 207), (('(', '('), 187), (('5.', '5.'), 187), (('we', 'meil'), 180), (('report:', 'raport:'), 174), (('you.', 'teid.'), 172), (('you,', 'teid,'), 171), (('6.', '6.'), 168), (('that', 'et'), 155), (('7.', '7.'), 154), (('you', 'te'), 153), (('they', 'nad'), 143), (('these', 'need'), 143), (('is', 'see'), 142), (('8.', '8.'), 139), (('why?', 'miks?'), 138), (('my', 'minu'), 136), (('cannot', 'ei'), 135), (('you.', 'teid!'), 130), (('this', 'seda'), 130), (('i', 'mul'), 127), (('of', 'komisjonide'), 124), (('9.', '9.'), 122), (('what', 'mis'), 119), (('10.', '10.'), 117), (('(vote)', '(hääletus)'), 115), (('subject:', 'teema:'), 115), (('what', 'mida'), 114), (('(debate)', '(arutelu)'), 110), (('committees', 'ja'), 109), (('and', 'delegatsioonide'), 109)]\n"
     ]
    }
   ],
   "source": [
    "# step 9 Print some of the most frequently occurring pairs of words.\n",
    "\n",
    "print(word_counts_reducer.takeOrdered(60, key=lambda x: -x[1]))\n"
   ]
  },
  {
   "cell_type": "code",
   "execution_count": 33,
   "id": "vulnerable-missouri",
   "metadata": {},
   "outputs": [],
   "source": [
    "spark_context.stop()"
   ]
  },
  {
   "cell_type": "code",
   "execution_count": null,
   "id": "official-cycle",
   "metadata": {},
   "outputs": [],
   "source": []
  }
 ],
 "metadata": {
  "kernelspec": {
   "display_name": "Python 3",
   "language": "python",
   "name": "python3"
  },
  "language_info": {
   "codemirror_mode": {
    "name": "ipython",
    "version": 3
   },
   "file_extension": ".py",
   "mimetype": "text/x-python",
   "name": "python",
   "nbconvert_exporter": "python",
   "pygments_lexer": "ipython3",
   "version": "3.8.5"
  }
 },
 "nbformat": 4,
 "nbformat_minor": 5
}
