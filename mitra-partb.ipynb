{
 "cells": [
  {
   "cell_type": "code",
   "execution_count": 1,
   "id": "pediatric-wages",
   "metadata": {},
   "outputs": [],
   "source": [
    "from pyspark.sql import SparkSession\n",
    "from pyspark import SparkContext\n",
    "from pyspark.streaming import StreamingContext\n",
    "\n",
    "\n",
    "# New API\n",
    "spark_session = SparkSession\\\n",
    "        .builder\\\n",
    "        .master(\"spark://192.168.2.113:7077\") \\\n",
    "        .appName(\"mitraroknipartB\")\\\n",
    "        .config(\"spark.dynamicAllocation.enabled\", True)\\\n",
    "        .config(\"spark.shuffle.service.enabled\", True)\\\n",
    "        .config(\"spark.dynamicAllocation.executorIdleTimeout\",\"30s\")\\\n",
    "        .config(\"spark.executor.cores\",4)\\\n",
    "        .config(\"spark.cores.max\",4)\\\n",
    "        .getOrCreate()\n",
    "# Old API (RDD)\n",
    "spark_context = spark_session.sparkContext"
   ]
  },
  {
   "cell_type": "code",
   "execution_count": 2,
   "id": "prime-ecology",
   "metadata": {},
   "outputs": [],
   "source": [
    "# 1 loead the dataset\n",
    "data_frame = spark_session.read\\\n",
    "    .option(\"header\", \"true\")\\\n",
    "    .csv('hdfs://192.168.2.113:9000/parking-citations.csv')\\\n",
    "    .cache()"
   ]
  },
  {
   "cell_type": "code",
   "execution_count": 3,
   "id": "strong-natural",
   "metadata": {},
   "outputs": [
    {
     "name": "stdout",
     "output_type": "stream",
     "text": [
      "+-------------+-------------------+----------+--------+-----------+--------------+-----------------+----+----+----------+-----+--------------------+-----+------+--------------+---------------------+-----------+---------+---------+\n",
      "|Ticket number|         Issue Date|Issue time|Meter Id|Marked Time|RP State Plate|Plate Expiry Date| VIN|Make|Body Style|Color|            Location|Route|Agency|Violation code|Violation Description|Fine amount| Latitude|Longitude|\n",
      "+-------------+-------------------+----------+--------+-----------+--------------+-----------------+----+----+----------+-----+--------------------+-----+------+--------------+---------------------+-----------+---------+---------+\n",
      "|   1103341116|2015-12-21T00:00:00|      1251|    null|       null|            CA|           200304|null|HOND|        PA|   GY|     13147 WELBY WAY|01521|     1|        4000A1|   NO EVIDENCE OF REG|         50|    99999|    99999|\n",
      "|   1103700150|2015-12-21T00:00:00|      1435|    null|       null|            CA|           201512|null| GMC|        VN|   WH|       525 S MAIN ST| 1C51|     1|        4000A1|   NO EVIDENCE OF REG|         50|    99999|    99999|\n",
      "|   1104803000|2015-12-21T00:00:00|      2055|    null|       null|            CA|           201503|null|NISS|        PA|   BK|       200 WORLD WAY|  2R2|     2|          8939|           WHITE CURB|         58|6439997.9|1802686.4|\n",
      "|   1104820732|2015-12-26T00:00:00|      1515|    null|       null|            CA|             null|null|ACUR|        PA|   WH|       100 WORLD WAY| 2F11|     2|           000|               17104h|       null|6440041.1|1802686.2|\n",
      "|   1105461453|2015-09-15T00:00:00|       115|    null|       null|            CA|           200316|null|CHEV|        PA|   BK|  GEORGIA ST/OLYMPIC|1FB70|     1|         8069A| NO STOPPING/STANDING|         93|    99999|    99999|\n",
      "|   1106226590|2015-09-15T00:00:00|        19|    null|       null|            CA|           201507|null|CHEV|        VN|   GY|  SAN PEDRO S/O BOYD|1A35W|     1|        4000A1|   NO EVIDENCE OF REG|         50|    99999|    99999|\n",
      "|   1106500452|2015-12-17T00:00:00|      1710|    null|       null|            CA|           201605|null|MAZD|        PA|   BL|     SUNSET/ALVARADO|00217|     1|          8070| PARK IN GRID LOCK ZN|        163|    99999|    99999|\n",
      "|   1106500463|2015-12-17T00:00:00|      1710|    null|       null|            CA|           201602|null|TOYO|        PA|   BK|     SUNSET/ALVARADO|00217|     1|          8070| PARK IN GRID LOCK ZN|        163|    99999|    99999|\n",
      "|   1106506402|2015-12-22T00:00:00|       945|    null|       null|            CA|           201605|null|CHEV|        PA|   BR|      721 S WESTLAKE| 2A75|     1|        8069AA|     NO STOP/STAND AM|         93|    99999|    99999|\n",
      "|   1106506413|2015-12-22T00:00:00|      1100|    null|       null|            CA|           201701|null|NISS|        PA|   SI|     1159 HUNTLEY DR| 2A75|     1|        8069AA|     NO STOP/STAND AM|         93|    99999|    99999|\n",
      "|   1106506424|2015-12-22T00:00:00|      1100|    null|       null|            CA|           201511|null|FORD|        TR|   WH|     1159 HUNTLEY DR| 2A75|     1|        8069AA|     NO STOP/STAND AM|         93|    99999|    99999|\n",
      "|   1106506435|2015-12-22T00:00:00|      1105|    null|       null|            CA|           201701|null|CHRY|        PA|   GO|     1159 HUNTLEY DR| 2A75|     1|        8069AA|     NO STOP/STAND AM|         93|    99999|    99999|\n",
      "|   1106506446|2015-12-22T00:00:00|      1110|    null|       null|            CA|           201511|null| BMW|        PA|   BK|      1200 W MIRAMAR| 2A75|     1|        4000A1|   NO EVIDENCE OF REG|         50|    99999|    99999|\n",
      "|   1106549754|2015-12-15T00:00:00|       825|    null|       null|            CA|           201607|null|PTRB|        TR|   BK|           4TH/STATE| CM96|     1|         8069A| NO STOPPING/STANDING|         93|    99999|    99999|\n",
      "|   1107179581|2015-12-27T00:00:00|      1055|    null|       null|            CA|           201605|null|TOYO|        PA|   BK|3100 N HOLLYRIDGE DR| null|    54|         8058L|         PREF PARKING|         68|    99999|    99999|\n",
      "|   1107179592|2015-12-27T00:00:00|      1200|    null|       null|            CA|           201602|null|MBNZ|        PA|   BK|   3115 N BERENDO DR| null|    54|         8058L|         PREF PARKING|         68|    99999|    99999|\n",
      "|   1107179603|2015-12-27T00:00:00|      1400|    null|       null|            CA|           201611|null|NISS|        PA|   WH| 3100 N BEACHWOOD DR| null|    54|         8058L|         PREF PARKING|         68|    99999|    99999|\n",
      "|   1107539823|2015-09-16T00:00:00|      2120|    null|       null|            CA|           201502|null|NISS|        PA| null|      BLAINE/11TH PL|1FB95|     1|        4000A1|   NO EVIDENCE OF REG|         50|    99999|    99999|\n",
      "|   1107539834|2015-09-16T00:00:00|      1045|    null|       null|            CA|             null|null|CHEV|        PA|   BK|  1246 S FIGUEROA ST| 1L20|     1|        8069AP|     NO STOP/STAND PM|         93|    99999|    99999|\n",
      "|   1107780811|2015-12-22T00:00:00|      1102|    null|       null|            CA|           201606|null|HOND|        PA|   BK|       PLATA/RAMPART|  2A1|     1|         8069B|           NO PARKING|         73|    99999|    99999|\n",
      "+-------------+-------------------+----------+--------+-----------+--------------+-----------------+----+----+----------+-----+--------------------+-----+------+--------------+---------------------+-----------+---------+---------+\n",
      "only showing top 20 rows\n",
      "\n"
     ]
    }
   ],
   "source": [
    "# 1 call show\n",
    "data_frame.show()"
   ]
  },
  {
   "cell_type": "code",
   "execution_count": 4,
   "id": "interior-berlin",
   "metadata": {},
   "outputs": [
    {
     "name": "stdout",
     "output_type": "stream",
     "text": [
      "root\n",
      " |-- Ticket number: string (nullable = true)\n",
      " |-- Issue Date: string (nullable = true)\n",
      " |-- Issue time: string (nullable = true)\n",
      " |-- Meter Id: string (nullable = true)\n",
      " |-- Marked Time: string (nullable = true)\n",
      " |-- RP State Plate: string (nullable = true)\n",
      " |-- Plate Expiry Date: string (nullable = true)\n",
      " |-- VIN: string (nullable = true)\n",
      " |-- Make: string (nullable = true)\n",
      " |-- Body Style: string (nullable = true)\n",
      " |-- Color: string (nullable = true)\n",
      " |-- Location: string (nullable = true)\n",
      " |-- Route: string (nullable = true)\n",
      " |-- Agency: string (nullable = true)\n",
      " |-- Violation code: string (nullable = true)\n",
      " |-- Violation Description: string (nullable = true)\n",
      " |-- Fine amount: string (nullable = true)\n",
      " |-- Latitude: string (nullable = true)\n",
      " |-- Longitude: string (nullable = true)\n",
      "\n"
     ]
    }
   ],
   "source": [
    "# 2 the schema:\n",
    "data_frame.printSchema()"
   ]
  },
  {
   "cell_type": "code",
   "execution_count": 7,
   "id": "welcome-webcam",
   "metadata": {},
   "outputs": [
    {
     "data": {
      "text/plain": [
       "9257460"
      ]
     },
     "execution_count": 7,
     "metadata": {},
     "output_type": "execute_result"
    }
   ],
   "source": [
    "# 3 the numbers of rows:\n",
    "data_frame.count()"
   ]
  },
  {
   "cell_type": "code",
   "execution_count": 8,
   "id": "architectural-labor",
   "metadata": {},
   "outputs": [
    {
     "data": {
      "text/plain": [
       "10"
      ]
     },
     "execution_count": 8,
     "metadata": {},
     "output_type": "execute_result"
    }
   ],
   "source": [
    "# 4 the numbers of partitions: \n",
    "data_frame.rdd.getNumPartitions()"
   ]
  },
  {
   "cell_type": "code",
   "execution_count": 9,
   "id": "painted-incidence",
   "metadata": {},
   "outputs": [
    {
     "name": "stdout",
     "output_type": "stream",
     "text": [
      "+-------------+-------------------+----------+--------+-----------+--------------+-----------------+----+----------+-----+--------------------+-----+------+--------------+---------------------+-----------+\n",
      "|Ticket number|         Issue Date|Issue time|Meter Id|Marked Time|RP State Plate|Plate Expiry Date|Make|Body Style|Color|            Location|Route|Agency|Violation code|Violation Description|Fine amount|\n",
      "+-------------+-------------------+----------+--------+-----------+--------------+-----------------+----+----------+-----+--------------------+-----+------+--------------+---------------------+-----------+\n",
      "|   1103341116|2015-12-21T00:00:00|      1251|    null|       null|            CA|           200304|HOND|        PA|   GY|     13147 WELBY WAY|01521|     1|        4000A1|   NO EVIDENCE OF REG|         50|\n",
      "|   1103700150|2015-12-21T00:00:00|      1435|    null|       null|            CA|           201512| GMC|        VN|   WH|       525 S MAIN ST| 1C51|     1|        4000A1|   NO EVIDENCE OF REG|         50|\n",
      "|   1104803000|2015-12-21T00:00:00|      2055|    null|       null|            CA|           201503|NISS|        PA|   BK|       200 WORLD WAY|  2R2|     2|          8939|           WHITE CURB|         58|\n",
      "|   1104820732|2015-12-26T00:00:00|      1515|    null|       null|            CA|             null|ACUR|        PA|   WH|       100 WORLD WAY| 2F11|     2|           000|               17104h|       null|\n",
      "|   1105461453|2015-09-15T00:00:00|       115|    null|       null|            CA|           200316|CHEV|        PA|   BK|  GEORGIA ST/OLYMPIC|1FB70|     1|         8069A| NO STOPPING/STANDING|         93|\n",
      "|   1106226590|2015-09-15T00:00:00|        19|    null|       null|            CA|           201507|CHEV|        VN|   GY|  SAN PEDRO S/O BOYD|1A35W|     1|        4000A1|   NO EVIDENCE OF REG|         50|\n",
      "|   1106500452|2015-12-17T00:00:00|      1710|    null|       null|            CA|           201605|MAZD|        PA|   BL|     SUNSET/ALVARADO|00217|     1|          8070| PARK IN GRID LOCK ZN|        163|\n",
      "|   1106500463|2015-12-17T00:00:00|      1710|    null|       null|            CA|           201602|TOYO|        PA|   BK|     SUNSET/ALVARADO|00217|     1|          8070| PARK IN GRID LOCK ZN|        163|\n",
      "|   1106506402|2015-12-22T00:00:00|       945|    null|       null|            CA|           201605|CHEV|        PA|   BR|      721 S WESTLAKE| 2A75|     1|        8069AA|     NO STOP/STAND AM|         93|\n",
      "|   1106506413|2015-12-22T00:00:00|      1100|    null|       null|            CA|           201701|NISS|        PA|   SI|     1159 HUNTLEY DR| 2A75|     1|        8069AA|     NO STOP/STAND AM|         93|\n",
      "|   1106506424|2015-12-22T00:00:00|      1100|    null|       null|            CA|           201511|FORD|        TR|   WH|     1159 HUNTLEY DR| 2A75|     1|        8069AA|     NO STOP/STAND AM|         93|\n",
      "|   1106506435|2015-12-22T00:00:00|      1105|    null|       null|            CA|           201701|CHRY|        PA|   GO|     1159 HUNTLEY DR| 2A75|     1|        8069AA|     NO STOP/STAND AM|         93|\n",
      "|   1106506446|2015-12-22T00:00:00|      1110|    null|       null|            CA|           201511| BMW|        PA|   BK|      1200 W MIRAMAR| 2A75|     1|        4000A1|   NO EVIDENCE OF REG|         50|\n",
      "|   1106549754|2015-12-15T00:00:00|       825|    null|       null|            CA|           201607|PTRB|        TR|   BK|           4TH/STATE| CM96|     1|         8069A| NO STOPPING/STANDING|         93|\n",
      "|   1107179581|2015-12-27T00:00:00|      1055|    null|       null|            CA|           201605|TOYO|        PA|   BK|3100 N HOLLYRIDGE DR| null|    54|         8058L|         PREF PARKING|         68|\n",
      "|   1107179592|2015-12-27T00:00:00|      1200|    null|       null|            CA|           201602|MBNZ|        PA|   BK|   3115 N BERENDO DR| null|    54|         8058L|         PREF PARKING|         68|\n",
      "|   1107179603|2015-12-27T00:00:00|      1400|    null|       null|            CA|           201611|NISS|        PA|   WH| 3100 N BEACHWOOD DR| null|    54|         8058L|         PREF PARKING|         68|\n",
      "|   1107539823|2015-09-16T00:00:00|      2120|    null|       null|            CA|           201502|NISS|        PA| null|      BLAINE/11TH PL|1FB95|     1|        4000A1|   NO EVIDENCE OF REG|         50|\n",
      "|   1107539834|2015-09-16T00:00:00|      1045|    null|       null|            CA|             null|CHEV|        PA|   BK|  1246 S FIGUEROA ST| 1L20|     1|        8069AP|     NO STOP/STAND PM|         93|\n",
      "|   1107780811|2015-12-22T00:00:00|      1102|    null|       null|            CA|           201606|HOND|        PA|   BK|       PLATA/RAMPART|  2A1|     1|         8069B|           NO PARKING|         73|\n",
      "+-------------+-------------------+----------+--------+-----------+--------------+-----------------+----+----------+-----+--------------------+-----+------+--------------+---------------------+-----------+\n",
      "only showing top 20 rows\n",
      "\n"
     ]
    }
   ],
   "source": [
    "# 5 droping three columns from dataframe second way \n",
    "columns_to_drop = ['VIN', 'Latitude','Longitude']\n",
    "data_frame2 = data_frame.drop(*columns_to_drop)\n",
    "data_frame2.show()"
   ]
  },
  {
   "cell_type": "code",
   "execution_count": 10,
   "id": "prompt-intellectual",
   "metadata": {},
   "outputs": [
    {
     "name": "stdout",
     "output_type": "stream",
     "text": [
      "+-------------+-------------------+----------+--------+-----------+--------------+-----------------+----+----------+-----+--------------------+-----+------+--------------+---------------------+----+\n",
      "|Ticket number|         Issue Date|Issue time|Meter Id|Marked Time|RP State Plate|Plate Expiry Date|Make|Body Style|Color|            Location|Route|Agency|Violation code|Violation Description|Fine|\n",
      "+-------------+-------------------+----------+--------+-----------+--------------+-----------------+----+----------+-----+--------------------+-----+------+--------------+---------------------+----+\n",
      "|   1103341116|2015-12-21T00:00:00|      1251|    null|       null|            CA|           200304|HOND|        PA|   GY|     13147 WELBY WAY|01521|     1|        4000A1|   NO EVIDENCE OF REG|  50|\n",
      "|   1103700150|2015-12-21T00:00:00|      1435|    null|       null|            CA|           201512| GMC|        VN|   WH|       525 S MAIN ST| 1C51|     1|        4000A1|   NO EVIDENCE OF REG|  50|\n",
      "|   1104803000|2015-12-21T00:00:00|      2055|    null|       null|            CA|           201503|NISS|        PA|   BK|       200 WORLD WAY|  2R2|     2|          8939|           WHITE CURB|  58|\n",
      "|   1104820732|2015-12-26T00:00:00|      1515|    null|       null|            CA|             null|ACUR|        PA|   WH|       100 WORLD WAY| 2F11|     2|           000|               17104h|null|\n",
      "|   1105461453|2015-09-15T00:00:00|       115|    null|       null|            CA|           200316|CHEV|        PA|   BK|  GEORGIA ST/OLYMPIC|1FB70|     1|         8069A| NO STOPPING/STANDING|  93|\n",
      "|   1106226590|2015-09-15T00:00:00|        19|    null|       null|            CA|           201507|CHEV|        VN|   GY|  SAN PEDRO S/O BOYD|1A35W|     1|        4000A1|   NO EVIDENCE OF REG|  50|\n",
      "|   1106500452|2015-12-17T00:00:00|      1710|    null|       null|            CA|           201605|MAZD|        PA|   BL|     SUNSET/ALVARADO|00217|     1|          8070| PARK IN GRID LOCK ZN| 163|\n",
      "|   1106500463|2015-12-17T00:00:00|      1710|    null|       null|            CA|           201602|TOYO|        PA|   BK|     SUNSET/ALVARADO|00217|     1|          8070| PARK IN GRID LOCK ZN| 163|\n",
      "|   1106506402|2015-12-22T00:00:00|       945|    null|       null|            CA|           201605|CHEV|        PA|   BR|      721 S WESTLAKE| 2A75|     1|        8069AA|     NO STOP/STAND AM|  93|\n",
      "|   1106506413|2015-12-22T00:00:00|      1100|    null|       null|            CA|           201701|NISS|        PA|   SI|     1159 HUNTLEY DR| 2A75|     1|        8069AA|     NO STOP/STAND AM|  93|\n",
      "|   1106506424|2015-12-22T00:00:00|      1100|    null|       null|            CA|           201511|FORD|        TR|   WH|     1159 HUNTLEY DR| 2A75|     1|        8069AA|     NO STOP/STAND AM|  93|\n",
      "|   1106506435|2015-12-22T00:00:00|      1105|    null|       null|            CA|           201701|CHRY|        PA|   GO|     1159 HUNTLEY DR| 2A75|     1|        8069AA|     NO STOP/STAND AM|  93|\n",
      "|   1106506446|2015-12-22T00:00:00|      1110|    null|       null|            CA|           201511| BMW|        PA|   BK|      1200 W MIRAMAR| 2A75|     1|        4000A1|   NO EVIDENCE OF REG|  50|\n",
      "|   1106549754|2015-12-15T00:00:00|       825|    null|       null|            CA|           201607|PTRB|        TR|   BK|           4TH/STATE| CM96|     1|         8069A| NO STOPPING/STANDING|  93|\n",
      "|   1107179581|2015-12-27T00:00:00|      1055|    null|       null|            CA|           201605|TOYO|        PA|   BK|3100 N HOLLYRIDGE DR| null|    54|         8058L|         PREF PARKING|  68|\n",
      "|   1107179592|2015-12-27T00:00:00|      1200|    null|       null|            CA|           201602|MBNZ|        PA|   BK|   3115 N BERENDO DR| null|    54|         8058L|         PREF PARKING|  68|\n",
      "|   1107179603|2015-12-27T00:00:00|      1400|    null|       null|            CA|           201611|NISS|        PA|   WH| 3100 N BEACHWOOD DR| null|    54|         8058L|         PREF PARKING|  68|\n",
      "|   1107539823|2015-09-16T00:00:00|      2120|    null|       null|            CA|           201502|NISS|        PA| null|      BLAINE/11TH PL|1FB95|     1|        4000A1|   NO EVIDENCE OF REG|  50|\n",
      "|   1107539834|2015-09-16T00:00:00|      1045|    null|       null|            CA|             null|CHEV|        PA|   BK|  1246 S FIGUEROA ST| 1L20|     1|        8069AP|     NO STOP/STAND PM|  93|\n",
      "|   1107780811|2015-12-22T00:00:00|      1102|    null|       null|            CA|           201606|HOND|        PA|   BK|       PLATA/RAMPART|  2A1|     1|         8069B|           NO PARKING|  73|\n",
      "+-------------+-------------------+----------+--------+-----------+--------------+-----------------+----+----------+-----+--------------------+-----+------+--------------+---------------------+----+\n",
      "only showing top 20 rows\n",
      "\n"
     ]
    }
   ],
   "source": [
    "# 6 Find the maximum fine amount: \n",
    "# steps: changing the name of column 'Fine amount'  to 'Fine' because of the spece between the words \n",
    "#        converting the string to float : it was not possible by using the udf function . weird\n",
    "#        \n",
    "\n",
    "\n",
    "data_frame3= data_frame2.withColumnRenamed('Fine amount', 'Fine')\n",
    "data_frame3.show()"
   ]
  },
  {
   "cell_type": "code",
   "execution_count": 11,
   "id": "ruled-discovery",
   "metadata": {},
   "outputs": [
    {
     "name": "stdout",
     "output_type": "stream",
     "text": [
      "+-------------+-------------------+----------+--------+-----------+--------------+-----------------+----+----------+-----+------------------+-----+------+--------------+---------------------+----+\n",
      "|Ticket number|         Issue Date|Issue time|Meter Id|Marked Time|RP State Plate|Plate Expiry Date|Make|Body Style|Color|          Location|Route|Agency|Violation code|Violation Description|Fine|\n",
      "+-------------+-------------------+----------+--------+-----------+--------------+-----------------+----+----------+-----+------------------+-----+------+--------------+---------------------+----+\n",
      "|   1103341116|2015-12-21T00:00:00|      1251|    null|       null|            CA|           200304|HOND|        PA|   GY|   13147 WELBY WAY|01521|     1|        4000A1|   NO EVIDENCE OF REG|  50|\n",
      "|   1103700150|2015-12-21T00:00:00|      1435|    null|       null|            CA|           201512| GMC|        VN|   WH|     525 S MAIN ST| 1C51|     1|        4000A1|   NO EVIDENCE OF REG|  50|\n",
      "|   1104803000|2015-12-21T00:00:00|      2055|    null|       null|            CA|           201503|NISS|        PA|   BK|     200 WORLD WAY|  2R2|     2|          8939|           WHITE CURB|  58|\n",
      "|   1105461453|2015-09-15T00:00:00|       115|    null|       null|            CA|           200316|CHEV|        PA|   BK|GEORGIA ST/OLYMPIC|1FB70|     1|         8069A| NO STOPPING/STANDING|  93|\n",
      "|   1106226590|2015-09-15T00:00:00|        19|    null|       null|            CA|           201507|CHEV|        VN|   GY|SAN PEDRO S/O BOYD|1A35W|     1|        4000A1|   NO EVIDENCE OF REG|  50|\n",
      "|   1106500452|2015-12-17T00:00:00|      1710|    null|       null|            CA|           201605|MAZD|        PA|   BL|   SUNSET/ALVARADO|00217|     1|          8070| PARK IN GRID LOCK ZN| 163|\n",
      "|   1106500463|2015-12-17T00:00:00|      1710|    null|       null|            CA|           201602|TOYO|        PA|   BK|   SUNSET/ALVARADO|00217|     1|          8070| PARK IN GRID LOCK ZN| 163|\n",
      "|   1106506402|2015-12-22T00:00:00|       945|    null|       null|            CA|           201605|CHEV|        PA|   BR|    721 S WESTLAKE| 2A75|     1|        8069AA|     NO STOP/STAND AM|  93|\n",
      "|   1106506413|2015-12-22T00:00:00|      1100|    null|       null|            CA|           201701|NISS|        PA|   SI|   1159 HUNTLEY DR| 2A75|     1|        8069AA|     NO STOP/STAND AM|  93|\n",
      "|   1106506424|2015-12-22T00:00:00|      1100|    null|       null|            CA|           201511|FORD|        TR|   WH|   1159 HUNTLEY DR| 2A75|     1|        8069AA|     NO STOP/STAND AM|  93|\n",
      "+-------------+-------------------+----------+--------+-----------+--------------+-----------------+----+----------+-----+------------------+-----+------+--------------+---------------------+----+\n",
      "only showing top 10 rows\n",
      "\n"
     ]
    }
   ],
   "source": [
    "# continuing ...  6\n",
    "#data_frame3.filter(\"Fine amount is null\").show\n",
    "data_frame4=data_frame3.filter(data_frame3['Fine'].isNotNull())\n",
    "data_frame4.show(10)"
   ]
  },
  {
   "cell_type": "code",
   "execution_count": 12,
   "id": "final-secondary",
   "metadata": {},
   "outputs": [
    {
     "ename": "Py4JJavaError",
     "evalue": "An error occurred while calling o93.showString.\n: org.apache.spark.SparkException: Job aborted due to stage failure: Task 0 in stage 11.0 failed 4 times, most recent failure: Lost task 0.3 in stage 11.0 (TID 61, 192.168.2.158, executor 0): java.io.IOException: No space left on device\n\tat java.io.FileOutputStream.writeBytes(Native Method)\n\tat java.io.FileOutputStream.write(FileOutputStream.java:326)\n\tat java.io.BufferedOutputStream.flushBuffer(BufferedOutputStream.java:82)\n\tat java.io.BufferedOutputStream.write(BufferedOutputStream.java:126)\n\tat java.io.DataOutputStream.write(DataOutputStream.java:107)\n\tat java.io.FilterOutputStream.write(FilterOutputStream.java:97)\n\tat org.apache.spark.sql.execution.python.DiskRowQueue.add(RowQueue.scala:130)\n\tat org.apache.spark.sql.execution.python.HybridRowQueue.add(RowQueue.scala:249)\n\tat org.apache.spark.sql.execution.python.EvalPythonExec.$anonfun$doExecute$10(EvalPythonExec.scala:123)\n\tat scala.collection.Iterator$$anon$10.next(Iterator.scala:459)\n\tat scala.collection.Iterator$$anon$10.next(Iterator.scala:459)\n\tat scala.collection.Iterator$GroupedIterator.takeDestructively(Iterator.scala:1159)\n\tat scala.collection.Iterator$GroupedIterator.go(Iterator.scala:1174)\n\tat scala.collection.Iterator$GroupedIterator.fill(Iterator.scala:1212)\n\tat scala.collection.Iterator$GroupedIterator.hasNext(Iterator.scala:1215)\n\tat scala.collection.Iterator$$anon$10.hasNext(Iterator.scala:458)\n\tat scala.collection.Iterator.foreach(Iterator.scala:941)\n\tat scala.collection.Iterator.foreach$(Iterator.scala:941)\n\tat scala.collection.AbstractIterator.foreach(Iterator.scala:1429)\n\tat org.apache.spark.api.python.PythonRDD$.writeIteratorToStream(PythonRDD.scala:295)\n\tat org.apache.spark.sql.execution.python.PythonUDFRunner$$anon$1.writeIteratorToStream(PythonUDFRunner.scala:50)\n\tat org.apache.spark.api.python.BasePythonRunner$WriterThread.$anonfun$run$1(PythonRunner.scala:383)\n\tat org.apache.spark.util.Utils$.logUncaughtExceptions(Utils.scala:1932)\n\tat org.apache.spark.api.python.BasePythonRunner$WriterThread.run(PythonRunner.scala:218)\n\nDriver stacktrace:\n\tat org.apache.spark.scheduler.DAGScheduler.failJobAndIndependentStages(DAGScheduler.scala:2059)\n\tat org.apache.spark.scheduler.DAGScheduler.$anonfun$abortStage$2(DAGScheduler.scala:2008)\n\tat org.apache.spark.scheduler.DAGScheduler.$anonfun$abortStage$2$adapted(DAGScheduler.scala:2007)\n\tat scala.collection.mutable.ResizableArray.foreach(ResizableArray.scala:62)\n\tat scala.collection.mutable.ResizableArray.foreach$(ResizableArray.scala:55)\n\tat scala.collection.mutable.ArrayBuffer.foreach(ArrayBuffer.scala:49)\n\tat org.apache.spark.scheduler.DAGScheduler.abortStage(DAGScheduler.scala:2007)\n\tat org.apache.spark.scheduler.DAGScheduler.$anonfun$handleTaskSetFailed$1(DAGScheduler.scala:973)\n\tat org.apache.spark.scheduler.DAGScheduler.$anonfun$handleTaskSetFailed$1$adapted(DAGScheduler.scala:973)\n\tat scala.Option.foreach(Option.scala:407)\n\tat org.apache.spark.scheduler.DAGScheduler.handleTaskSetFailed(DAGScheduler.scala:973)\n\tat org.apache.spark.scheduler.DAGSchedulerEventProcessLoop.doOnReceive(DAGScheduler.scala:2239)\n\tat org.apache.spark.scheduler.DAGSchedulerEventProcessLoop.onReceive(DAGScheduler.scala:2188)\n\tat org.apache.spark.scheduler.DAGSchedulerEventProcessLoop.onReceive(DAGScheduler.scala:2177)\n\tat org.apache.spark.util.EventLoop$$anon$1.run(EventLoop.scala:49)\n\tat org.apache.spark.scheduler.DAGScheduler.runJob(DAGScheduler.scala:775)\n\tat org.apache.spark.SparkContext.runJob(SparkContext.scala:2099)\n\tat org.apache.spark.SparkContext.runJob(SparkContext.scala:2120)\n\tat org.apache.spark.SparkContext.runJob(SparkContext.scala:2139)\n\tat org.apache.spark.sql.execution.SparkPlan.executeTake(SparkPlan.scala:467)\n\tat org.apache.spark.sql.execution.SparkPlan.executeTake(SparkPlan.scala:420)\n\tat org.apache.spark.sql.execution.CollectLimitExec.executeCollect(limit.scala:47)\n\tat org.apache.spark.sql.Dataset.collectFromPlan(Dataset.scala:3627)\n\tat org.apache.spark.sql.Dataset.$anonfun$head$1(Dataset.scala:2697)\n\tat org.apache.spark.sql.Dataset.$anonfun$withAction$1(Dataset.scala:3618)\n\tat org.apache.spark.sql.execution.SQLExecution$.$anonfun$withNewExecutionId$5(SQLExecution.scala:100)\n\tat org.apache.spark.sql.execution.SQLExecution$.withSQLConfPropagated(SQLExecution.scala:160)\n\tat org.apache.spark.sql.execution.SQLExecution$.$anonfun$withNewExecutionId$1(SQLExecution.scala:87)\n\tat org.apache.spark.sql.SparkSession.withActive(SparkSession.scala:764)\n\tat org.apache.spark.sql.execution.SQLExecution$.withNewExecutionId(SQLExecution.scala:64)\n\tat org.apache.spark.sql.Dataset.withAction(Dataset.scala:3616)\n\tat org.apache.spark.sql.Dataset.head(Dataset.scala:2697)\n\tat org.apache.spark.sql.Dataset.take(Dataset.scala:2904)\n\tat org.apache.spark.sql.Dataset.getRows(Dataset.scala:300)\n\tat org.apache.spark.sql.Dataset.showString(Dataset.scala:337)\n\tat sun.reflect.NativeMethodAccessorImpl.invoke0(Native Method)\n\tat sun.reflect.NativeMethodAccessorImpl.invoke(NativeMethodAccessorImpl.java:62)\n\tat sun.reflect.DelegatingMethodAccessorImpl.invoke(DelegatingMethodAccessorImpl.java:43)\n\tat java.lang.reflect.Method.invoke(Method.java:498)\n\tat py4j.reflection.MethodInvoker.invoke(MethodInvoker.java:244)\n\tat py4j.reflection.ReflectionEngine.invoke(ReflectionEngine.java:357)\n\tat py4j.Gateway.invoke(Gateway.java:282)\n\tat py4j.commands.AbstractCommand.invokeMethod(AbstractCommand.java:132)\n\tat py4j.commands.CallCommand.execute(CallCommand.java:79)\n\tat py4j.GatewayConnection.run(GatewayConnection.java:238)\n\tat java.lang.Thread.run(Thread.java:748)\nCaused by: java.io.IOException: No space left on device\n\tat java.io.FileOutputStream.writeBytes(Native Method)\n\tat java.io.FileOutputStream.write(FileOutputStream.java:326)\n\tat java.io.BufferedOutputStream.flushBuffer(BufferedOutputStream.java:82)\n\tat java.io.BufferedOutputStream.write(BufferedOutputStream.java:126)\n\tat java.io.DataOutputStream.write(DataOutputStream.java:107)\n\tat java.io.FilterOutputStream.write(FilterOutputStream.java:97)\n\tat org.apache.spark.sql.execution.python.DiskRowQueue.add(RowQueue.scala:130)\n\tat org.apache.spark.sql.execution.python.HybridRowQueue.add(RowQueue.scala:249)\n\tat org.apache.spark.sql.execution.python.EvalPythonExec.$anonfun$doExecute$10(EvalPythonExec.scala:123)\n\tat scala.collection.Iterator$$anon$10.next(Iterator.scala:459)\n\tat scala.collection.Iterator$$anon$10.next(Iterator.scala:459)\n\tat scala.collection.Iterator$GroupedIterator.takeDestructively(Iterator.scala:1159)\n\tat scala.collection.Iterator$GroupedIterator.go(Iterator.scala:1174)\n\tat scala.collection.Iterator$GroupedIterator.fill(Iterator.scala:1212)\n\tat scala.collection.Iterator$GroupedIterator.hasNext(Iterator.scala:1215)\n\tat scala.collection.Iterator$$anon$10.hasNext(Iterator.scala:458)\n\tat scala.collection.Iterator.foreach(Iterator.scala:941)\n\tat scala.collection.Iterator.foreach$(Iterator.scala:941)\n\tat scala.collection.AbstractIterator.foreach(Iterator.scala:1429)\n\tat org.apache.spark.api.python.PythonRDD$.writeIteratorToStream(PythonRDD.scala:295)\n\tat org.apache.spark.sql.execution.python.PythonUDFRunner$$anon$1.writeIteratorToStream(PythonUDFRunner.scala:50)\n\tat org.apache.spark.api.python.BasePythonRunner$WriterThread.$anonfun$run$1(PythonRunner.scala:383)\n\tat org.apache.spark.util.Utils$.logUncaughtExceptions(Utils.scala:1932)\n\tat org.apache.spark.api.python.BasePythonRunner$WriterThread.run(PythonRunner.scala:218)\n",
     "output_type": "error",
     "traceback": [
      "\u001b[0;31m---------------------------------------------------------------------------\u001b[0m",
      "\u001b[0;31mPy4JJavaError\u001b[0m                             Traceback (most recent call last)",
      "\u001b[0;32m<ipython-input-12-fe48aaa64b2f>\u001b[0m in \u001b[0;36m<module>\u001b[0;34m\u001b[0m\n\u001b[1;32m     22\u001b[0m \u001b[0mdata_frame_with_float_of_fine\u001b[0m\u001b[0;34m.\u001b[0m\u001b[0mcache\u001b[0m\u001b[0;34m(\u001b[0m\u001b[0;34m)\u001b[0m\u001b[0;34m\u001b[0m\u001b[0;34m\u001b[0m\u001b[0m\n\u001b[1;32m     23\u001b[0m \u001b[0;34m\u001b[0m\u001b[0m\n\u001b[0;32m---> 24\u001b[0;31m \u001b[0mdata_frame_with_float_of_fine\u001b[0m\u001b[0;34m.\u001b[0m\u001b[0mshow\u001b[0m\u001b[0;34m(\u001b[0m\u001b[0;34m)\u001b[0m\u001b[0;34m\u001b[0m\u001b[0;34m\u001b[0m\u001b[0m\n\u001b[0m\u001b[1;32m     25\u001b[0m \u001b[0;34m\u001b[0m\u001b[0m\n\u001b[1;32m     26\u001b[0m \u001b[0;31m#data_frame_with_float_of_fine.select('floatfine').summary().show()\u001b[0m\u001b[0;34m\u001b[0m\u001b[0;34m\u001b[0m\u001b[0;34m\u001b[0m\u001b[0m\n",
      "\u001b[0;32m~/.local/lib/python3.8/site-packages/pyspark/sql/dataframe.py\u001b[0m in \u001b[0;36mshow\u001b[0;34m(self, n, truncate, vertical)\u001b[0m\n\u001b[1;32m    438\u001b[0m         \"\"\"\n\u001b[1;32m    439\u001b[0m         \u001b[0;32mif\u001b[0m \u001b[0misinstance\u001b[0m\u001b[0;34m(\u001b[0m\u001b[0mtruncate\u001b[0m\u001b[0;34m,\u001b[0m \u001b[0mbool\u001b[0m\u001b[0;34m)\u001b[0m \u001b[0;32mand\u001b[0m \u001b[0mtruncate\u001b[0m\u001b[0;34m:\u001b[0m\u001b[0;34m\u001b[0m\u001b[0;34m\u001b[0m\u001b[0m\n\u001b[0;32m--> 440\u001b[0;31m             \u001b[0mprint\u001b[0m\u001b[0;34m(\u001b[0m\u001b[0mself\u001b[0m\u001b[0;34m.\u001b[0m\u001b[0m_jdf\u001b[0m\u001b[0;34m.\u001b[0m\u001b[0mshowString\u001b[0m\u001b[0;34m(\u001b[0m\u001b[0mn\u001b[0m\u001b[0;34m,\u001b[0m \u001b[0;36m20\u001b[0m\u001b[0;34m,\u001b[0m \u001b[0mvertical\u001b[0m\u001b[0;34m)\u001b[0m\u001b[0;34m)\u001b[0m\u001b[0;34m\u001b[0m\u001b[0;34m\u001b[0m\u001b[0m\n\u001b[0m\u001b[1;32m    441\u001b[0m         \u001b[0;32melse\u001b[0m\u001b[0;34m:\u001b[0m\u001b[0;34m\u001b[0m\u001b[0;34m\u001b[0m\u001b[0m\n\u001b[1;32m    442\u001b[0m             \u001b[0mprint\u001b[0m\u001b[0;34m(\u001b[0m\u001b[0mself\u001b[0m\u001b[0;34m.\u001b[0m\u001b[0m_jdf\u001b[0m\u001b[0;34m.\u001b[0m\u001b[0mshowString\u001b[0m\u001b[0;34m(\u001b[0m\u001b[0mn\u001b[0m\u001b[0;34m,\u001b[0m \u001b[0mint\u001b[0m\u001b[0;34m(\u001b[0m\u001b[0mtruncate\u001b[0m\u001b[0;34m)\u001b[0m\u001b[0;34m,\u001b[0m \u001b[0mvertical\u001b[0m\u001b[0;34m)\u001b[0m\u001b[0;34m)\u001b[0m\u001b[0;34m\u001b[0m\u001b[0;34m\u001b[0m\u001b[0m\n",
      "\u001b[0;32m~/.local/lib/python3.8/site-packages/py4j/java_gateway.py\u001b[0m in \u001b[0;36m__call__\u001b[0;34m(self, *args)\u001b[0m\n\u001b[1;32m   1302\u001b[0m \u001b[0;34m\u001b[0m\u001b[0m\n\u001b[1;32m   1303\u001b[0m         \u001b[0manswer\u001b[0m \u001b[0;34m=\u001b[0m \u001b[0mself\u001b[0m\u001b[0;34m.\u001b[0m\u001b[0mgateway_client\u001b[0m\u001b[0;34m.\u001b[0m\u001b[0msend_command\u001b[0m\u001b[0;34m(\u001b[0m\u001b[0mcommand\u001b[0m\u001b[0;34m)\u001b[0m\u001b[0;34m\u001b[0m\u001b[0;34m\u001b[0m\u001b[0m\n\u001b[0;32m-> 1304\u001b[0;31m         return_value = get_return_value(\n\u001b[0m\u001b[1;32m   1305\u001b[0m             answer, self.gateway_client, self.target_id, self.name)\n\u001b[1;32m   1306\u001b[0m \u001b[0;34m\u001b[0m\u001b[0m\n",
      "\u001b[0;32m~/.local/lib/python3.8/site-packages/pyspark/sql/utils.py\u001b[0m in \u001b[0;36mdeco\u001b[0;34m(*a, **kw)\u001b[0m\n\u001b[1;32m    126\u001b[0m     \u001b[0;32mdef\u001b[0m \u001b[0mdeco\u001b[0m\u001b[0;34m(\u001b[0m\u001b[0;34m*\u001b[0m\u001b[0ma\u001b[0m\u001b[0;34m,\u001b[0m \u001b[0;34m**\u001b[0m\u001b[0mkw\u001b[0m\u001b[0;34m)\u001b[0m\u001b[0;34m:\u001b[0m\u001b[0;34m\u001b[0m\u001b[0;34m\u001b[0m\u001b[0m\n\u001b[1;32m    127\u001b[0m         \u001b[0;32mtry\u001b[0m\u001b[0;34m:\u001b[0m\u001b[0;34m\u001b[0m\u001b[0;34m\u001b[0m\u001b[0m\n\u001b[0;32m--> 128\u001b[0;31m             \u001b[0;32mreturn\u001b[0m \u001b[0mf\u001b[0m\u001b[0;34m(\u001b[0m\u001b[0;34m*\u001b[0m\u001b[0ma\u001b[0m\u001b[0;34m,\u001b[0m \u001b[0;34m**\u001b[0m\u001b[0mkw\u001b[0m\u001b[0;34m)\u001b[0m\u001b[0;34m\u001b[0m\u001b[0;34m\u001b[0m\u001b[0m\n\u001b[0m\u001b[1;32m    129\u001b[0m         \u001b[0;32mexcept\u001b[0m \u001b[0mpy4j\u001b[0m\u001b[0;34m.\u001b[0m\u001b[0mprotocol\u001b[0m\u001b[0;34m.\u001b[0m\u001b[0mPy4JJavaError\u001b[0m \u001b[0;32mas\u001b[0m \u001b[0me\u001b[0m\u001b[0;34m:\u001b[0m\u001b[0;34m\u001b[0m\u001b[0;34m\u001b[0m\u001b[0m\n\u001b[1;32m    130\u001b[0m             \u001b[0mconverted\u001b[0m \u001b[0;34m=\u001b[0m \u001b[0mconvert_exception\u001b[0m\u001b[0;34m(\u001b[0m\u001b[0me\u001b[0m\u001b[0;34m.\u001b[0m\u001b[0mjava_exception\u001b[0m\u001b[0;34m)\u001b[0m\u001b[0;34m\u001b[0m\u001b[0;34m\u001b[0m\u001b[0m\n",
      "\u001b[0;32m~/.local/lib/python3.8/site-packages/py4j/protocol.py\u001b[0m in \u001b[0;36mget_return_value\u001b[0;34m(answer, gateway_client, target_id, name)\u001b[0m\n\u001b[1;32m    324\u001b[0m             \u001b[0mvalue\u001b[0m \u001b[0;34m=\u001b[0m \u001b[0mOUTPUT_CONVERTER\u001b[0m\u001b[0;34m[\u001b[0m\u001b[0mtype\u001b[0m\u001b[0;34m]\u001b[0m\u001b[0;34m(\u001b[0m\u001b[0manswer\u001b[0m\u001b[0;34m[\u001b[0m\u001b[0;36m2\u001b[0m\u001b[0;34m:\u001b[0m\u001b[0;34m]\u001b[0m\u001b[0;34m,\u001b[0m \u001b[0mgateway_client\u001b[0m\u001b[0;34m)\u001b[0m\u001b[0;34m\u001b[0m\u001b[0;34m\u001b[0m\u001b[0m\n\u001b[1;32m    325\u001b[0m             \u001b[0;32mif\u001b[0m \u001b[0manswer\u001b[0m\u001b[0;34m[\u001b[0m\u001b[0;36m1\u001b[0m\u001b[0;34m]\u001b[0m \u001b[0;34m==\u001b[0m \u001b[0mREFERENCE_TYPE\u001b[0m\u001b[0;34m:\u001b[0m\u001b[0;34m\u001b[0m\u001b[0;34m\u001b[0m\u001b[0m\n\u001b[0;32m--> 326\u001b[0;31m                 raise Py4JJavaError(\n\u001b[0m\u001b[1;32m    327\u001b[0m                     \u001b[0;34m\"An error occurred while calling {0}{1}{2}.\\n\"\u001b[0m\u001b[0;34m.\u001b[0m\u001b[0;34m\u001b[0m\u001b[0;34m\u001b[0m\u001b[0m\n\u001b[1;32m    328\u001b[0m                     format(target_id, \".\", name), value)\n",
      "\u001b[0;31mPy4JJavaError\u001b[0m: An error occurred while calling o93.showString.\n: org.apache.spark.SparkException: Job aborted due to stage failure: Task 0 in stage 11.0 failed 4 times, most recent failure: Lost task 0.3 in stage 11.0 (TID 61, 192.168.2.158, executor 0): java.io.IOException: No space left on device\n\tat java.io.FileOutputStream.writeBytes(Native Method)\n\tat java.io.FileOutputStream.write(FileOutputStream.java:326)\n\tat java.io.BufferedOutputStream.flushBuffer(BufferedOutputStream.java:82)\n\tat java.io.BufferedOutputStream.write(BufferedOutputStream.java:126)\n\tat java.io.DataOutputStream.write(DataOutputStream.java:107)\n\tat java.io.FilterOutputStream.write(FilterOutputStream.java:97)\n\tat org.apache.spark.sql.execution.python.DiskRowQueue.add(RowQueue.scala:130)\n\tat org.apache.spark.sql.execution.python.HybridRowQueue.add(RowQueue.scala:249)\n\tat org.apache.spark.sql.execution.python.EvalPythonExec.$anonfun$doExecute$10(EvalPythonExec.scala:123)\n\tat scala.collection.Iterator$$anon$10.next(Iterator.scala:459)\n\tat scala.collection.Iterator$$anon$10.next(Iterator.scala:459)\n\tat scala.collection.Iterator$GroupedIterator.takeDestructively(Iterator.scala:1159)\n\tat scala.collection.Iterator$GroupedIterator.go(Iterator.scala:1174)\n\tat scala.collection.Iterator$GroupedIterator.fill(Iterator.scala:1212)\n\tat scala.collection.Iterator$GroupedIterator.hasNext(Iterator.scala:1215)\n\tat scala.collection.Iterator$$anon$10.hasNext(Iterator.scala:458)\n\tat scala.collection.Iterator.foreach(Iterator.scala:941)\n\tat scala.collection.Iterator.foreach$(Iterator.scala:941)\n\tat scala.collection.AbstractIterator.foreach(Iterator.scala:1429)\n\tat org.apache.spark.api.python.PythonRDD$.writeIteratorToStream(PythonRDD.scala:295)\n\tat org.apache.spark.sql.execution.python.PythonUDFRunner$$anon$1.writeIteratorToStream(PythonUDFRunner.scala:50)\n\tat org.apache.spark.api.python.BasePythonRunner$WriterThread.$anonfun$run$1(PythonRunner.scala:383)\n\tat org.apache.spark.util.Utils$.logUncaughtExceptions(Utils.scala:1932)\n\tat org.apache.spark.api.python.BasePythonRunner$WriterThread.run(PythonRunner.scala:218)\n\nDriver stacktrace:\n\tat org.apache.spark.scheduler.DAGScheduler.failJobAndIndependentStages(DAGScheduler.scala:2059)\n\tat org.apache.spark.scheduler.DAGScheduler.$anonfun$abortStage$2(DAGScheduler.scala:2008)\n\tat org.apache.spark.scheduler.DAGScheduler.$anonfun$abortStage$2$adapted(DAGScheduler.scala:2007)\n\tat scala.collection.mutable.ResizableArray.foreach(ResizableArray.scala:62)\n\tat scala.collection.mutable.ResizableArray.foreach$(ResizableArray.scala:55)\n\tat scala.collection.mutable.ArrayBuffer.foreach(ArrayBuffer.scala:49)\n\tat org.apache.spark.scheduler.DAGScheduler.abortStage(DAGScheduler.scala:2007)\n\tat org.apache.spark.scheduler.DAGScheduler.$anonfun$handleTaskSetFailed$1(DAGScheduler.scala:973)\n\tat org.apache.spark.scheduler.DAGScheduler.$anonfun$handleTaskSetFailed$1$adapted(DAGScheduler.scala:973)\n\tat scala.Option.foreach(Option.scala:407)\n\tat org.apache.spark.scheduler.DAGScheduler.handleTaskSetFailed(DAGScheduler.scala:973)\n\tat org.apache.spark.scheduler.DAGSchedulerEventProcessLoop.doOnReceive(DAGScheduler.scala:2239)\n\tat org.apache.spark.scheduler.DAGSchedulerEventProcessLoop.onReceive(DAGScheduler.scala:2188)\n\tat org.apache.spark.scheduler.DAGSchedulerEventProcessLoop.onReceive(DAGScheduler.scala:2177)\n\tat org.apache.spark.util.EventLoop$$anon$1.run(EventLoop.scala:49)\n\tat org.apache.spark.scheduler.DAGScheduler.runJob(DAGScheduler.scala:775)\n\tat org.apache.spark.SparkContext.runJob(SparkContext.scala:2099)\n\tat org.apache.spark.SparkContext.runJob(SparkContext.scala:2120)\n\tat org.apache.spark.SparkContext.runJob(SparkContext.scala:2139)\n\tat org.apache.spark.sql.execution.SparkPlan.executeTake(SparkPlan.scala:467)\n\tat org.apache.spark.sql.execution.SparkPlan.executeTake(SparkPlan.scala:420)\n\tat org.apache.spark.sql.execution.CollectLimitExec.executeCollect(limit.scala:47)\n\tat org.apache.spark.sql.Dataset.collectFromPlan(Dataset.scala:3627)\n\tat org.apache.spark.sql.Dataset.$anonfun$head$1(Dataset.scala:2697)\n\tat org.apache.spark.sql.Dataset.$anonfun$withAction$1(Dataset.scala:3618)\n\tat org.apache.spark.sql.execution.SQLExecution$.$anonfun$withNewExecutionId$5(SQLExecution.scala:100)\n\tat org.apache.spark.sql.execution.SQLExecution$.withSQLConfPropagated(SQLExecution.scala:160)\n\tat org.apache.spark.sql.execution.SQLExecution$.$anonfun$withNewExecutionId$1(SQLExecution.scala:87)\n\tat org.apache.spark.sql.SparkSession.withActive(SparkSession.scala:764)\n\tat org.apache.spark.sql.execution.SQLExecution$.withNewExecutionId(SQLExecution.scala:64)\n\tat org.apache.spark.sql.Dataset.withAction(Dataset.scala:3616)\n\tat org.apache.spark.sql.Dataset.head(Dataset.scala:2697)\n\tat org.apache.spark.sql.Dataset.take(Dataset.scala:2904)\n\tat org.apache.spark.sql.Dataset.getRows(Dataset.scala:300)\n\tat org.apache.spark.sql.Dataset.showString(Dataset.scala:337)\n\tat sun.reflect.NativeMethodAccessorImpl.invoke0(Native Method)\n\tat sun.reflect.NativeMethodAccessorImpl.invoke(NativeMethodAccessorImpl.java:62)\n\tat sun.reflect.DelegatingMethodAccessorImpl.invoke(DelegatingMethodAccessorImpl.java:43)\n\tat java.lang.reflect.Method.invoke(Method.java:498)\n\tat py4j.reflection.MethodInvoker.invoke(MethodInvoker.java:244)\n\tat py4j.reflection.ReflectionEngine.invoke(ReflectionEngine.java:357)\n\tat py4j.Gateway.invoke(Gateway.java:282)\n\tat py4j.commands.AbstractCommand.invokeMethod(AbstractCommand.java:132)\n\tat py4j.commands.CallCommand.execute(CallCommand.java:79)\n\tat py4j.GatewayConnection.run(GatewayConnection.java:238)\n\tat java.lang.Thread.run(Thread.java:748)\nCaused by: java.io.IOException: No space left on device\n\tat java.io.FileOutputStream.writeBytes(Native Method)\n\tat java.io.FileOutputStream.write(FileOutputStream.java:326)\n\tat java.io.BufferedOutputStream.flushBuffer(BufferedOutputStream.java:82)\n\tat java.io.BufferedOutputStream.write(BufferedOutputStream.java:126)\n\tat java.io.DataOutputStream.write(DataOutputStream.java:107)\n\tat java.io.FilterOutputStream.write(FilterOutputStream.java:97)\n\tat org.apache.spark.sql.execution.python.DiskRowQueue.add(RowQueue.scala:130)\n\tat org.apache.spark.sql.execution.python.HybridRowQueue.add(RowQueue.scala:249)\n\tat org.apache.spark.sql.execution.python.EvalPythonExec.$anonfun$doExecute$10(EvalPythonExec.scala:123)\n\tat scala.collection.Iterator$$anon$10.next(Iterator.scala:459)\n\tat scala.collection.Iterator$$anon$10.next(Iterator.scala:459)\n\tat scala.collection.Iterator$GroupedIterator.takeDestructively(Iterator.scala:1159)\n\tat scala.collection.Iterator$GroupedIterator.go(Iterator.scala:1174)\n\tat scala.collection.Iterator$GroupedIterator.fill(Iterator.scala:1212)\n\tat scala.collection.Iterator$GroupedIterator.hasNext(Iterator.scala:1215)\n\tat scala.collection.Iterator$$anon$10.hasNext(Iterator.scala:458)\n\tat scala.collection.Iterator.foreach(Iterator.scala:941)\n\tat scala.collection.Iterator.foreach$(Iterator.scala:941)\n\tat scala.collection.AbstractIterator.foreach(Iterator.scala:1429)\n\tat org.apache.spark.api.python.PythonRDD$.writeIteratorToStream(PythonRDD.scala:295)\n\tat org.apache.spark.sql.execution.python.PythonUDFRunner$$anon$1.writeIteratorToStream(PythonUDFRunner.scala:50)\n\tat org.apache.spark.api.python.BasePythonRunner$WriterThread.$anonfun$run$1(PythonRunner.scala:383)\n\tat org.apache.spark.util.Utils$.logUncaughtExceptions(Utils.scala:1932)\n\tat org.apache.spark.api.python.BasePythonRunner$WriterThread.run(PythonRunner.scala:218)\n"
     ]
    }
   ],
   "source": [
    "import pyspark\n",
    "from pyspark.sql.functions import udf\n",
    "from pyspark.sql.types import StringType\n",
    "\n",
    "def float_of_fine(fine):\n",
    "    return float(fine)\n",
    "\n",
    "# User-defined function. Input type is a string.\n",
    "udf_float_of_fine = udf(float_of_fine, StringType())\n",
    "\n",
    "\n",
    "# 9999: missing (with scale factor of 10)\n",
    "data_frame_with_float_of_fine = data_frame4.withColumn(\"floatfine\", udf_float_of_fine(\"Fine\"))\n",
    "\n",
    "\n",
    "#data_frame_with_wnd_speed.select('WND', 'WND_SPEED_MS').show()\n",
    "\n",
    "# data_frame_with_wnd_speed.show()\n",
    "\n",
    "#data_frame_with_wnd_speed = data_frame_with_wnd_speed.filter(data_frame_with_wnd_speed['WND_SPEED_MS'] <= 900)\n",
    "\n",
    "data_frame_with_float_of_fine.cache()\n",
    "\n",
    "data_frame_with_float_of_fine.show()\n",
    "\n",
    "#data_frame_with_float_of_fine.select('floatfine').summary().show()\n",
    "\n",
    "data_frame_with_float_of_fine.printSchema()\n",
    "\n",
    "#data_frame_with_float_of_fine.show()\n",
    "# این متند دوباره یه ستون به نام فلوت فاین میده که باز استرینگ هست و به فلوت تنبدیل نشده ؟ و دوباره برا ماکس گرفتن و غیره دچار مشکل میشیم پش من یه کد دیگه رو استفاده کردم که کارمو راه انداخت هر چند یه دیتافریم دیگه ایجاد کرده و دلیلشو نمیدونم چیه ! \n"
   ]
  },
  {
   "cell_type": "code",
   "execution_count": 17,
   "id": "alive-humanitarian",
   "metadata": {},
   "outputs": [
    {
     "name": "stdout",
     "output_type": "stream",
     "text": [
      "+----+---------+\n",
      "|Fine|Finefloat|\n",
      "+----+---------+\n",
      "|  50|     50.0|\n",
      "|  50|     50.0|\n",
      "|  58|     58.0|\n",
      "|  93|     93.0|\n",
      "|  50|     50.0|\n",
      "| 163|    163.0|\n",
      "| 163|    163.0|\n",
      "|  93|     93.0|\n",
      "|  93|     93.0|\n",
      "|  93|     93.0|\n",
      "|  93|     93.0|\n",
      "|  50|     50.0|\n",
      "|  93|     93.0|\n",
      "|  68|     68.0|\n",
      "|  68|     68.0|\n",
      "|  68|     68.0|\n",
      "|  50|     50.0|\n",
      "|  93|     93.0|\n",
      "|  73|     73.0|\n",
      "|  73|     73.0|\n",
      "+----+---------+\n",
      "only showing top 20 rows\n",
      "\n",
      "+-------+------------------+------------------+\n",
      "|summary|              Fine|         Finefloat|\n",
      "+-------+------------------+------------------+\n",
      "|  count|           9250556|           9250556|\n",
      "|   mean|  70.1290350547578|  70.1290350547578|\n",
      "| stddev|32.135865052383785|32.135865052383785|\n",
      "|    min|                10|              10.0|\n",
      "|    25%|              63.0|              63.0|\n",
      "|    50%|              68.0|              68.0|\n",
      "|    75%|              73.0|              73.0|\n",
      "|    max|              98.0|             505.0|\n",
      "+-------+------------------+------------------+\n",
      "\n"
     ]
    }
   ],
   "source": [
    "# continuing ...  6 \n",
    "from pyspark.sql.functions import col\n",
    "data_frame5 = data_frame4.select(col('Fine'), data_frame4.Fine.cast('float').alias('Finefloat'))\n",
    "data_frame5.cache()\n",
    "data_frame5.show()\n",
    "\n",
    "data_frame5.summary().show()"
   ]
  },
  {
   "cell_type": "code",
   "execution_count": null,
   "id": "surrounded-catalog",
   "metadata": {},
   "outputs": [],
   "source": [
    "# still 6\n",
    "#which cars ot max fine?\n",
    "frequencies= data_frame4.filter(data_frame4['Fine'] =='505')\n",
    "frequencies.show()\n",
    "frequencies.count()\n",
    "\n",
    "\n",
    "# number of max fines \n",
    "data_frame5.filter('Finefloat=\"505.0\"').count()"
   ]
  },
  {
   "cell_type": "code",
   "execution_count": 19,
   "id": "revolutionary-identifier",
   "metadata": {},
   "outputs": [
    {
     "name": "stdout",
     "output_type": "stream",
     "text": [
      "+----+-------+\n",
      "|Make|  count|\n",
      "+----+-------+\n",
      "|TOYT|1531915|\n",
      "|HOND|1042680|\n",
      "|FORD| 806768|\n",
      "|NISS| 661667|\n",
      "|CHEV| 630841|\n",
      "| BMW| 422727|\n",
      "|MERZ| 376723|\n",
      "|VOLK| 315865|\n",
      "|HYUN| 284972|\n",
      "|DODG| 271330|\n",
      "|LEXS| 263248|\n",
      "| KIA| 217670|\n",
      "|JEEP| 214857|\n",
      "|AUDI| 179652|\n",
      "|MAZD| 169743|\n",
      "|OTHR| 154357|\n",
      "| GMC| 132662|\n",
      "|INFI| 120262|\n",
      "|CHRY| 120241|\n",
      "|ACUR| 111204|\n",
      "+----+-------+\n",
      "only showing top 20 rows\n",
      "\n"
     ]
    }
   ],
   "source": [
    "# 7 the top 20 most frequent vehicle makes, and their frequencies.\n",
    "data_frame6 = data_frame4.groupby('Make').count()\n",
    "data_frame6.orderBy((\"count\"), ascending=False).show()\n"
   ]
  },
  {
   "cell_type": "code",
   "execution_count": 20,
   "id": "greenhouse-reviewer",
   "metadata": {},
   "outputs": [],
   "source": [
    "# 8 mapping the color to dictionary & ... . \n",
    "COLORS={'AL':'Aluminum','AM':'Amber','BG':'Beige','BK':'Black','BL':'Blue','BN':'Brown','BR':'Brown','BZ':'Bronze','CH':'Charcoal','DK':'Dark','GD':'Gold','GO':'Gold','GN':'Green','GY':'Gray','GT':'Granite','IV':'Ivory','LT':'Light','OL':'Olive','OR':'Orange','MR':'Maroon','PK':'Pink','RD':'Red','RE':'Red','SI':'Silver','SL':'Silver','SM':'Smoke','TN':'Tan','VT':'Violet','WT':'White','WH':'White','YL':'Yellow','YE':'Yellow','UN':'Unknown'}\n",
    "   "
   ]
  },
  {
   "cell_type": "code",
   "execution_count": 21,
   "id": "removable-intelligence",
   "metadata": {},
   "outputs": [
    {
     "name": "stdout",
     "output_type": "stream",
     "text": [
      "+-------------+-------------------+----------+--------+-----------+--------------+-----------------+----+----------+-----+--------------------+-----+------+--------------+---------------------+----+----------+\n",
      "|Ticket number|         Issue Date|Issue time|Meter Id|Marked Time|RP State Plate|Plate Expiry Date|Make|Body Style|Color|            Location|Route|Agency|Violation code|Violation Description|Fine|Long_color|\n",
      "+-------------+-------------------+----------+--------+-----------+--------------+-----------------+----+----------+-----+--------------------+-----+------+--------------+---------------------+----+----------+\n",
      "|   1103341116|2015-12-21T00:00:00|      1251|    null|       null|            CA|           200304|HOND|        PA|   GY|     13147 WELBY WAY|01521|     1|        4000A1|   NO EVIDENCE OF REG|  50|      Gray|\n",
      "|   1103700150|2015-12-21T00:00:00|      1435|    null|       null|            CA|           201512| GMC|        VN|   WH|       525 S MAIN ST| 1C51|     1|        4000A1|   NO EVIDENCE OF REG|  50|     White|\n",
      "|   1104803000|2015-12-21T00:00:00|      2055|    null|       null|            CA|           201503|NISS|        PA|   BK|       200 WORLD WAY|  2R2|     2|          8939|           WHITE CURB|  58|     Black|\n",
      "|   1105461453|2015-09-15T00:00:00|       115|    null|       null|            CA|           200316|CHEV|        PA|   BK|  GEORGIA ST/OLYMPIC|1FB70|     1|         8069A| NO STOPPING/STANDING|  93|     Black|\n",
      "|   1106226590|2015-09-15T00:00:00|        19|    null|       null|            CA|           201507|CHEV|        VN|   GY|  SAN PEDRO S/O BOYD|1A35W|     1|        4000A1|   NO EVIDENCE OF REG|  50|      Gray|\n",
      "|   1106500452|2015-12-17T00:00:00|      1710|    null|       null|            CA|           201605|MAZD|        PA|   BL|     SUNSET/ALVARADO|00217|     1|          8070| PARK IN GRID LOCK ZN| 163|      Blue|\n",
      "|   1106500463|2015-12-17T00:00:00|      1710|    null|       null|            CA|           201602|TOYO|        PA|   BK|     SUNSET/ALVARADO|00217|     1|          8070| PARK IN GRID LOCK ZN| 163|     Black|\n",
      "|   1106506402|2015-12-22T00:00:00|       945|    null|       null|            CA|           201605|CHEV|        PA|   BR|      721 S WESTLAKE| 2A75|     1|        8069AA|     NO STOP/STAND AM|  93|     Brown|\n",
      "|   1106506413|2015-12-22T00:00:00|      1100|    null|       null|            CA|           201701|NISS|        PA|   SI|     1159 HUNTLEY DR| 2A75|     1|        8069AA|     NO STOP/STAND AM|  93|    Silver|\n",
      "|   1106506424|2015-12-22T00:00:00|      1100|    null|       null|            CA|           201511|FORD|        TR|   WH|     1159 HUNTLEY DR| 2A75|     1|        8069AA|     NO STOP/STAND AM|  93|     White|\n",
      "|   1106506435|2015-12-22T00:00:00|      1105|    null|       null|            CA|           201701|CHRY|        PA|   GO|     1159 HUNTLEY DR| 2A75|     1|        8069AA|     NO STOP/STAND AM|  93|      Gold|\n",
      "|   1106506446|2015-12-22T00:00:00|      1110|    null|       null|            CA|           201511| BMW|        PA|   BK|      1200 W MIRAMAR| 2A75|     1|        4000A1|   NO EVIDENCE OF REG|  50|     Black|\n",
      "|   1106549754|2015-12-15T00:00:00|       825|    null|       null|            CA|           201607|PTRB|        TR|   BK|           4TH/STATE| CM96|     1|         8069A| NO STOPPING/STANDING|  93|     Black|\n",
      "|   1107179581|2015-12-27T00:00:00|      1055|    null|       null|            CA|           201605|TOYO|        PA|   BK|3100 N HOLLYRIDGE DR| null|    54|         8058L|         PREF PARKING|  68|     Black|\n",
      "|   1107179592|2015-12-27T00:00:00|      1200|    null|       null|            CA|           201602|MBNZ|        PA|   BK|   3115 N BERENDO DR| null|    54|         8058L|         PREF PARKING|  68|     Black|\n",
      "|   1107179603|2015-12-27T00:00:00|      1400|    null|       null|            CA|           201611|NISS|        PA|   WH| 3100 N BEACHWOOD DR| null|    54|         8058L|         PREF PARKING|  68|     White|\n",
      "|   1107539823|2015-09-16T00:00:00|      2120|    null|       null|            CA|           201502|NISS|        PA| null|      BLAINE/11TH PL|1FB95|     1|        4000A1|   NO EVIDENCE OF REG|  50|      null|\n",
      "|   1107539834|2015-09-16T00:00:00|      1045|    null|       null|            CA|             null|CHEV|        PA|   BK|  1246 S FIGUEROA ST| 1L20|     1|        8069AP|     NO STOP/STAND PM|  93|     Black|\n",
      "|   1107780811|2015-12-22T00:00:00|      1102|    null|       null|            CA|           201606|HOND|        PA|   BK|       PLATA/RAMPART|  2A1|     1|         8069B|           NO PARKING|  73|     Black|\n",
      "|   1107780822|2015-12-22T00:00:00|      1105|    null|       null|            FL|           201611|FORD|        PA|   WH|                null|  2A1|     1|         8069B|           NO PARKING|  73|     White|\n",
      "+-------------+-------------------+----------+--------+-----------+--------------+-----------------+----+----------+-----+--------------------+-----+------+--------------+---------------------+----+----------+\n",
      "only showing top 20 rows\n",
      "\n"
     ]
    }
   ],
   "source": [
    "# 8 ... . \n",
    "def color_mapping(color):\n",
    "    if color in COLORS:\n",
    "        return COLORS[color]\n",
    "    return color\n",
    "\n",
    "udf_with_color_mapping = udf(color_mapping, StringType())\n",
    "data_frame_with_long_color = data_frame4.withColumn(\"Long_color\", udf_with_color_mapping(\"Color\"))\n",
    "data_frame_with_long_color.show()"
   ]
  },
  {
   "cell_type": "code",
   "execution_count": 25,
   "id": "suited-roads",
   "metadata": {},
   "outputs": [
    {
     "name": "stdout",
     "output_type": "stream",
     "text": [
      "+-------------+-------------------+----------+--------+-----------+--------------+-----------------+----+----------+-----+--------------------+-----+------+--------------+---------------------+----+----------+\n",
      "|Ticket number|         Issue Date|Issue time|Meter Id|Marked Time|RP State Plate|Plate Expiry Date|Make|Body Style|Color|            Location|Route|Agency|Violation code|Violation Description|Fine|Long_color|\n",
      "+-------------+-------------------+----------+--------+-----------+--------------+-----------------+----+----------+-----+--------------------+-----+------+--------------+---------------------+----+----------+\n",
      "|   4269481495|2015-12-30T00:00:00|      1711|    null|       null|            CA|           201604|TOYT|        PA|   GY|      2001 FLOWER ST|00500|    55|      80.69AP+|     NO STOP/STANDING|  93|      Gray|\n",
      "|   4269951431|2015-12-30T00:00:00|      2108|    null|       null|            CA|           201609|TOYT|        PA|   GY|    3736 CIMARRON ST|00901|    55|        22500E|    BLOCKING DRIVEWAY|  68|      Gray|\n",
      "|   4270165970|2015-12-30T00:00:00|       727|    null|       null|            CA|           201507|TOYT|        PA|   GY|4801 BELLINGHAM A...|  57V|    57|        5204A-|      DISPLAY OF TABS|  25|      Gray|\n",
      "|   4270903980|2015-12-30T00:00:00|       753|      13|       null|            CA|           201603|TOYT|        PA|   GY|   135 ORLANDO AVE S|00451|    54|        80.58L| PREFERENTIAL PARKING|  68|      Gray|\n",
      "|   4271202633|2015-12-30T00:00:00|       901|    null|       null|            CA|           201610|TOYT|        PA|   GY|6560 RESEDA BOULE...|360R1|    53|      80.69AP+|     NO STOP/STANDING|  93|      Gray|\n",
      "|   4271202655|2015-12-30T00:00:00|       936|    null|       null|            CA|           201603|TOYT|        PA|   GY|  7004 LENNOX AVENUE|360R1|    53|        22500E|    BLOCKING DRIVEWAY|  68|      Gray|\n",
      "|   4271419062|2015-12-30T00:00:00|      1032|    null|       null|            CA|           201604|TOYT|        PA|   GO|142 NORTH LARCHMO...|496R1|    54|          5200|    DISPLAY OF PLATES|  25|      Gold|\n",
      "|   4271419213|2015-12-30T00:00:00|      1300|   HO133|       null|            CA|           201602|TOYT|        PA|   SL|      1645 WILCOX AV|496R1|    54|       88.13B+|           METER EXP.|  63|    Silver|\n",
      "|   4271419250|2015-12-30T00:00:00|      1506|    null|       null|            CA|           201510|TOYT|        PA|   SL|215 NORTH LARCHMO...|496R1|    54|        5204A-|      DISPLAY OF TABS|  25|    Silver|\n",
      "|   4271459861|2015-12-30T00:00:00|      1707|    null|       null|            CA|           201601|TOYT|        PA|   BK|       730 SOTO ST S|00635|    56|      80.69AP+|     NO STOP/STANDING|  93|     Black|\n",
      "|   4271605236|2015-12-30T00:00:00|      1615|    null|       null|            CA|           201607|TOYT|        PA|   GO|1317 MANCHESTER A...|00500|    55|      80.69AP+|     NO STOP/STANDING|  93|      Gold|\n",
      "|   4271615773|2015-12-30T00:00:00|       846|    null|       null|            CA|           201601|TOYT|        PA|   SL|  743 N HARVARD BLVD|00441|    54|       80.69BS| NO PARK/STREET CLEAN|  73|    Silver|\n",
      "|   4271686731|2015-12-30T00:00:00|      1206|    null|       null|            CA|           201608|TOYT|        PA|   BK|      1700 41ST ST W|00543|    55|       80.69BS| NO PARK/STREET CLEAN|  73|     Black|\n",
      "|   4271686860|2015-12-30T00:00:00|      1257|    null|       null|            CA|           201612|TOYT|        PA|   WT|    5159 GRAMERCY PL|00543|    55|       80.69BS| NO PARK/STREET CLEAN|  73|     White|\n",
      "|   4271686893|2015-12-30T00:00:00|      1311|    null|       null|            CA|           201607|TOYT|        PA|   SL|      2008 52ND ST W|00543|    55|       80.69BS| NO PARK/STREET CLEAN|  73|    Silver|\n",
      "|   4271792976|2015-12-30T00:00:00|      1705|    null|       null|            CA|                6|TOYT|        PA|   GY|   7015 BROADWAY AVE|00500|    55|      80.69AP+|     NO STOP/STANDING|  93|      Gray|\n",
      "|   4271792980|2015-12-30T00:00:00|      1750|    null|       null|            CA|                6|TOYT|        PU|   WT|       1233 255TH ST|00500|    55|        22500E|    BLOCKING DRIVEWAY|  68|     White|\n",
      "|   4271841862|2015-12-30T00:00:00|       856|    null|       null|            CA|           201603|TOYT|        PA|   SL|      1521 ISABEL ST|00640|    56|        22500E|    BLOCKING DRIVEWAY|  68|    Silver|\n",
      "|   4271841884|2015-12-30T00:00:00|       909|    null|       null|            CA|           201603|TOYT|        PU|   GN|  2633 PEPPER AVENUE|00640|    56|       80.69BS| NO PARK/STREET CLEAN|  73|     Green|\n",
      "|   4271841921|2015-12-30T00:00:00|       923|    null|       null|            KS|           201304|TOYT|        PA|   SL|   2628 ALICE STREET|00640|    56|       80.69BS| NO PARK/STREET CLEAN|  73|    Silver|\n",
      "+-------------+-------------------+----------+--------+-----------+--------------+-----------------+----+----------+-----+--------------------+-----+------+--------------+---------------------+----+----------+\n",
      "only showing top 20 rows\n",
      "\n"
     ]
    },
    {
     "ename": "AnalysisException",
     "evalue": "cannot resolve '`TOYT`' given input columns: [Agency, Body Style, Color, Fine, Issue Date, Issue time, Location, Long_color, Make, Marked Time, Meter Id, Plate Expiry Date, RP State Plate, Route, Ticket number, Violation Description, Violation code];;\n'Project ['TOYT]\n+- Filter (Make#24 = TOYT)\n   +- Project [Ticket number#16, Issue Date#17, Issue time#18, Meter Id#19, Marked Time#20, RP State Plate#21, Plate Expiry Date#22, Make#24, Body Style#25, Color#26, Location#27, Route#28, Agency#29, Violation code#30, Violation Description#31, Fine#2108, color_mapping(Color#26) AS Long_color#5759]\n      +- Filter isnotnull(Fine#2108)\n         +- Project [Ticket number#16, Issue Date#17, Issue time#18, Meter Id#19, Marked Time#20, RP State Plate#21, Plate Expiry Date#22, Make#24, Body Style#25, Color#26, Location#27, Route#28, Agency#29, Violation code#30, Violation Description#31, Fine amount#32 AS Fine#2108]\n            +- Project [Ticket number#16, Issue Date#17, Issue time#18, Meter Id#19, Marked Time#20, RP State Plate#21, Plate Expiry Date#22, Make#24, Body Style#25, Color#26, Location#27, Route#28, Agency#29, Violation code#30, Violation Description#31, Fine amount#32]\n               +- Relation[Ticket number#16,Issue Date#17,Issue time#18,Meter Id#19,Marked Time#20,RP State Plate#21,Plate Expiry Date#22,VIN#23,Make#24,Body Style#25,Color#26,Location#27,Route#28,Agency#29,Violation code#30,Violation Description#31,Fine amount#32,Latitude#33,Longitude#34] csv\n",
     "output_type": "error",
     "traceback": [
      "\u001b[0;31m---------------------------------------------------------------------------\u001b[0m",
      "\u001b[0;31mAnalysisException\u001b[0m                         Traceback (most recent call last)",
      "\u001b[0;32m<ipython-input-25-4e53363b31bc>\u001b[0m in \u001b[0;36m<module>\u001b[0;34m\u001b[0m\n\u001b[1;32m      3\u001b[0m \u001b[0mdata_frame7\u001b[0m\u001b[0;34m.\u001b[0m\u001b[0mshow\u001b[0m\u001b[0;34m(\u001b[0m\u001b[0;34m)\u001b[0m\u001b[0;34m\u001b[0m\u001b[0;34m\u001b[0m\u001b[0m\n\u001b[1;32m      4\u001b[0m \u001b[0;34m\u001b[0m\u001b[0m\n\u001b[0;32m----> 5\u001b[0;31m \u001b[0mmax_TOYT_color\u001b[0m\u001b[0;34m=\u001b[0m \u001b[0mdata_frame7\u001b[0m\u001b[0;34m.\u001b[0m \u001b[0mselect\u001b[0m\u001b[0;34m(\u001b[0m\u001b[0;34m'TOYT'\u001b[0m\u001b[0;34m)\u001b[0m\u001b[0;34m,\u001b[0m\u001b[0;34m\u001b[0m\u001b[0;34m\u001b[0m\u001b[0m\n\u001b[0m\u001b[1;32m      6\u001b[0m \u001b[0;34m\u001b[0m\u001b[0m\n",
      "\u001b[0;32m~/.local/lib/python3.8/site-packages/pyspark/sql/dataframe.py\u001b[0m in \u001b[0;36mselect\u001b[0;34m(self, *cols)\u001b[0m\n\u001b[1;32m   1419\u001b[0m         \u001b[0;34m[\u001b[0m\u001b[0mRow\u001b[0m\u001b[0;34m(\u001b[0m\u001b[0mname\u001b[0m\u001b[0;34m=\u001b[0m\u001b[0;34mu'Alice'\u001b[0m\u001b[0;34m,\u001b[0m \u001b[0mage\u001b[0m\u001b[0;34m=\u001b[0m\u001b[0;36m12\u001b[0m\u001b[0;34m)\u001b[0m\u001b[0;34m,\u001b[0m \u001b[0mRow\u001b[0m\u001b[0;34m(\u001b[0m\u001b[0mname\u001b[0m\u001b[0;34m=\u001b[0m\u001b[0;34mu'Bob'\u001b[0m\u001b[0;34m,\u001b[0m \u001b[0mage\u001b[0m\u001b[0;34m=\u001b[0m\u001b[0;36m15\u001b[0m\u001b[0;34m)\u001b[0m\u001b[0;34m]\u001b[0m\u001b[0;34m\u001b[0m\u001b[0;34m\u001b[0m\u001b[0m\n\u001b[1;32m   1420\u001b[0m         \"\"\"\n\u001b[0;32m-> 1421\u001b[0;31m         \u001b[0mjdf\u001b[0m \u001b[0;34m=\u001b[0m \u001b[0mself\u001b[0m\u001b[0;34m.\u001b[0m\u001b[0m_jdf\u001b[0m\u001b[0;34m.\u001b[0m\u001b[0mselect\u001b[0m\u001b[0;34m(\u001b[0m\u001b[0mself\u001b[0m\u001b[0;34m.\u001b[0m\u001b[0m_jcols\u001b[0m\u001b[0;34m(\u001b[0m\u001b[0;34m*\u001b[0m\u001b[0mcols\u001b[0m\u001b[0;34m)\u001b[0m\u001b[0;34m)\u001b[0m\u001b[0;34m\u001b[0m\u001b[0;34m\u001b[0m\u001b[0m\n\u001b[0m\u001b[1;32m   1422\u001b[0m         \u001b[0;32mreturn\u001b[0m \u001b[0mDataFrame\u001b[0m\u001b[0;34m(\u001b[0m\u001b[0mjdf\u001b[0m\u001b[0;34m,\u001b[0m \u001b[0mself\u001b[0m\u001b[0;34m.\u001b[0m\u001b[0msql_ctx\u001b[0m\u001b[0;34m)\u001b[0m\u001b[0;34m\u001b[0m\u001b[0;34m\u001b[0m\u001b[0m\n\u001b[1;32m   1423\u001b[0m \u001b[0;34m\u001b[0m\u001b[0m\n",
      "\u001b[0;32m~/.local/lib/python3.8/site-packages/py4j/java_gateway.py\u001b[0m in \u001b[0;36m__call__\u001b[0;34m(self, *args)\u001b[0m\n\u001b[1;32m   1302\u001b[0m \u001b[0;34m\u001b[0m\u001b[0m\n\u001b[1;32m   1303\u001b[0m         \u001b[0manswer\u001b[0m \u001b[0;34m=\u001b[0m \u001b[0mself\u001b[0m\u001b[0;34m.\u001b[0m\u001b[0mgateway_client\u001b[0m\u001b[0;34m.\u001b[0m\u001b[0msend_command\u001b[0m\u001b[0;34m(\u001b[0m\u001b[0mcommand\u001b[0m\u001b[0;34m)\u001b[0m\u001b[0;34m\u001b[0m\u001b[0;34m\u001b[0m\u001b[0m\n\u001b[0;32m-> 1304\u001b[0;31m         return_value = get_return_value(\n\u001b[0m\u001b[1;32m   1305\u001b[0m             answer, self.gateway_client, self.target_id, self.name)\n\u001b[1;32m   1306\u001b[0m \u001b[0;34m\u001b[0m\u001b[0m\n",
      "\u001b[0;32m~/.local/lib/python3.8/site-packages/pyspark/sql/utils.py\u001b[0m in \u001b[0;36mdeco\u001b[0;34m(*a, **kw)\u001b[0m\n\u001b[1;32m    132\u001b[0m                 \u001b[0;31m# Hide where the exception came from that shows a non-Pythonic\u001b[0m\u001b[0;34m\u001b[0m\u001b[0;34m\u001b[0m\u001b[0;34m\u001b[0m\u001b[0m\n\u001b[1;32m    133\u001b[0m                 \u001b[0;31m# JVM exception message.\u001b[0m\u001b[0;34m\u001b[0m\u001b[0;34m\u001b[0m\u001b[0;34m\u001b[0m\u001b[0m\n\u001b[0;32m--> 134\u001b[0;31m                 \u001b[0mraise_from\u001b[0m\u001b[0;34m(\u001b[0m\u001b[0mconverted\u001b[0m\u001b[0;34m)\u001b[0m\u001b[0;34m\u001b[0m\u001b[0;34m\u001b[0m\u001b[0m\n\u001b[0m\u001b[1;32m    135\u001b[0m             \u001b[0;32melse\u001b[0m\u001b[0;34m:\u001b[0m\u001b[0;34m\u001b[0m\u001b[0;34m\u001b[0m\u001b[0m\n\u001b[1;32m    136\u001b[0m                 \u001b[0;32mraise\u001b[0m\u001b[0;34m\u001b[0m\u001b[0;34m\u001b[0m\u001b[0m\n",
      "\u001b[0;32m~/.local/lib/python3.8/site-packages/pyspark/sql/utils.py\u001b[0m in \u001b[0;36mraise_from\u001b[0;34m(e)\u001b[0m\n",
      "\u001b[0;31mAnalysisException\u001b[0m: cannot resolve '`TOYT`' given input columns: [Agency, Body Style, Color, Fine, Issue Date, Issue time, Location, Long_color, Make, Marked Time, Meter Id, Plate Expiry Date, RP State Plate, Route, Ticket number, Violation Description, Violation code];;\n'Project ['TOYT]\n+- Filter (Make#24 = TOYT)\n   +- Project [Ticket number#16, Issue Date#17, Issue time#18, Meter Id#19, Marked Time#20, RP State Plate#21, Plate Expiry Date#22, Make#24, Body Style#25, Color#26, Location#27, Route#28, Agency#29, Violation code#30, Violation Description#31, Fine#2108, color_mapping(Color#26) AS Long_color#5759]\n      +- Filter isnotnull(Fine#2108)\n         +- Project [Ticket number#16, Issue Date#17, Issue time#18, Meter Id#19, Marked Time#20, RP State Plate#21, Plate Expiry Date#22, Make#24, Body Style#25, Color#26, Location#27, Route#28, Agency#29, Violation code#30, Violation Description#31, Fine amount#32 AS Fine#2108]\n            +- Project [Ticket number#16, Issue Date#17, Issue time#18, Meter Id#19, Marked Time#20, RP State Plate#21, Plate Expiry Date#22, Make#24, Body Style#25, Color#26, Location#27, Route#28, Agency#29, Violation code#30, Violation Description#31, Fine amount#32]\n               +- Relation[Ticket number#16,Issue Date#17,Issue time#18,Meter Id#19,Marked Time#20,RP State Plate#21,Plate Expiry Date#22,VIN#23,Make#24,Body Style#25,Color#26,Location#27,Route#28,Agency#29,Violation code#30,Violation Description#31,Fine amount#32,Latitude#33,Longitude#34] csv\n"
     ]
    }
   ],
   "source": [
    "#  9 the most frequent colour value for Toyotas(TOYT): \n",
    "data_frame7= data_frame_with_long_color.filter(data_frame_with_long_color['Make']=='TOYT')\n",
    "data_frame7.show()\n",
    "\n",
    "max_TOYT_color= data_frame7. select('TOYT'),\n",
    " \n"
   ]
  },
  {
   "cell_type": "code",
   "execution_count": 26,
   "id": "another-backup",
   "metadata": {},
   "outputs": [
    {
     "name": "stdout",
     "output_type": "stream",
     "text": [
      "+----------+------+\n",
      "|Long_color| count|\n",
      "+----------+------+\n",
      "|      Gray|346817|\n",
      "|     White|304607|\n",
      "|     Black|252199|\n",
      "|    Silver|248684|\n",
      "|      Blue|128043|\n",
      "|       Red| 84174|\n",
      "|     Green| 57625|\n",
      "|      Gold| 30154|\n",
      "|    Maroon| 19882|\n",
      "|       Tan| 17006|\n",
      "|     Beige| 11572|\n",
      "|        OT| 10804|\n",
      "|     Brown|  8466|\n",
      "|    Yellow|  3412|\n",
      "|        PR|  3010|\n",
      "|    Orange|  2526|\n",
      "|   Unknown|  1343|\n",
      "|        TU|  1077|\n",
      "|        CO|   423|\n",
      "|      Pink|    89|\n",
      "+----------+------+\n",
      "only showing top 20 rows\n",
      "\n"
     ]
    }
   ],
   "source": [
    "# 9 the most frequent colour value for Toyotas(TOYT): \n",
    "max_TOYT_color = data_frame7.groupBy(\"Long_color\")\\\n",
    "                     .count()\\\n",
    "                     .orderBy(\"count\",ascending=False )\\\n",
    "\n",
    "\n",
    "max_TOYT_color.show()"
   ]
  },
  {
   "cell_type": "code",
   "execution_count": 27,
   "id": "objective-crazy",
   "metadata": {},
   "outputs": [],
   "source": [
    "spark_context.stop()"
   ]
  },
  {
   "cell_type": "code",
   "execution_count": null,
   "id": "closing-pioneer",
   "metadata": {},
   "outputs": [],
   "source": []
  },
  {
   "cell_type": "code",
   "execution_count": null,
   "id": "fixed-penetration",
   "metadata": {},
   "outputs": [],
   "source": []
  }
 ],
 "metadata": {
  "kernelspec": {
   "display_name": "Python 3",
   "language": "python",
   "name": "python3"
  },
  "language_info": {
   "codemirror_mode": {
    "name": "ipython",
    "version": 3
   },
   "file_extension": ".py",
   "mimetype": "text/x-python",
   "name": "python",
   "nbconvert_exporter": "python",
   "pygments_lexer": "ipython3",
   "version": "3.8.5"
  }
 },
 "nbformat": 4,
 "nbformat_minor": 5
}
